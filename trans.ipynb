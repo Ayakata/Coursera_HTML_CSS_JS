{
  "nbformat": 4,
  "nbformat_minor": 0,
  "metadata": {
    "colab": {
      "name": "cyber.ipynb",
      "provenance": [],
      "collapsed_sections": [],
      "toc_visible": true,
      "authorship_tag": "ABX9TyNjWtkZ7BeOraJJA6imU/7+",
      "include_colab_link": true
    },
    "kernelspec": {
      "name": "python3",
      "display_name": "Python 3"
    },
    "accelerator": "GPU"
  },
  "cells": [
    {
      "cell_type": "markdown",
      "metadata": {
        "id": "view-in-github",
        "colab_type": "text"
      },
      "source": [
        "<a href=\"https://colab.research.google.com/github/Ayakata/Coursera_HTML_CSS_JS/blob/master/trans.ipynb\" target=\"_parent\"><img src=\"https://colab.research.google.com/assets/colab-badge.svg\" alt=\"Open In Colab\"/></a>"
      ]
    },
    {
      "cell_type": "code",
      "metadata": {
        "id": "Za6Yw_pnRlTI",
        "outputId": "01ed272d-0cef-436b-ae0f-0bfeabd0de51",
        "colab": {
          "base_uri": "https://localhost:8080/",
          "height": 1000
        }
      },
      "source": [
        "!pip install tensorflow==2.1.0\n",
        "!pip install Keras==2.3.1"
      ],
      "execution_count": 1,
      "outputs": [
        {
          "output_type": "stream",
          "text": [
            "Collecting tensorflow==2.1.0\n",
            "\u001b[?25l  Downloading https://files.pythonhosted.org/packages/85/d4/c0cd1057b331bc38b65478302114194bd8e1b9c2bbc06e300935c0e93d90/tensorflow-2.1.0-cp36-cp36m-manylinux2010_x86_64.whl (421.8MB)\n",
            "\u001b[K     |████████████████████████████████| 421.8MB 30kB/s \n",
            "\u001b[?25hRequirement already satisfied: six>=1.12.0 in /usr/local/lib/python3.6/dist-packages (from tensorflow==2.1.0) (1.15.0)\n",
            "Collecting tensorflow-estimator<2.2.0,>=2.1.0rc0\n",
            "\u001b[?25l  Downloading https://files.pythonhosted.org/packages/18/90/b77c328a1304437ab1310b463e533fa7689f4bfc41549593056d812fab8e/tensorflow_estimator-2.1.0-py2.py3-none-any.whl (448kB)\n",
            "\u001b[K     |████████████████████████████████| 450kB 41.5MB/s \n",
            "\u001b[?25hRequirement already satisfied: termcolor>=1.1.0 in /usr/local/lib/python3.6/dist-packages (from tensorflow==2.1.0) (1.1.0)\n",
            "Requirement already satisfied: wrapt>=1.11.1 in /usr/local/lib/python3.6/dist-packages (from tensorflow==2.1.0) (1.12.1)\n",
            "Requirement already satisfied: google-pasta>=0.1.6 in /usr/local/lib/python3.6/dist-packages (from tensorflow==2.1.0) (0.2.0)\n",
            "Collecting tensorboard<2.2.0,>=2.1.0\n",
            "\u001b[?25l  Downloading https://files.pythonhosted.org/packages/d9/41/bbf49b61370e4f4d245d4c6051dfb6db80cec672605c91b1652ac8cc3d38/tensorboard-2.1.1-py3-none-any.whl (3.8MB)\n",
            "\u001b[K     |████████████████████████████████| 3.9MB 53.7MB/s \n",
            "\u001b[?25hRequirement already satisfied: protobuf>=3.8.0 in /usr/local/lib/python3.6/dist-packages (from tensorflow==2.1.0) (3.12.4)\n",
            "Requirement already satisfied: grpcio>=1.8.6 in /usr/local/lib/python3.6/dist-packages (from tensorflow==2.1.0) (1.33.1)\n",
            "Collecting gast==0.2.2\n",
            "  Downloading https://files.pythonhosted.org/packages/4e/35/11749bf99b2d4e3cceb4d55ca22590b0d7c2c62b9de38ac4a4a7f4687421/gast-0.2.2.tar.gz\n",
            "Requirement already satisfied: absl-py>=0.7.0 in /usr/local/lib/python3.6/dist-packages (from tensorflow==2.1.0) (0.10.0)\n",
            "Requirement already satisfied: astor>=0.6.0 in /usr/local/lib/python3.6/dist-packages (from tensorflow==2.1.0) (0.8.1)\n",
            "Requirement already satisfied: numpy<2.0,>=1.16.0 in /usr/local/lib/python3.6/dist-packages (from tensorflow==2.1.0) (1.18.5)\n",
            "Requirement already satisfied: wheel>=0.26; python_version >= \"3\" in /usr/local/lib/python3.6/dist-packages (from tensorflow==2.1.0) (0.35.1)\n",
            "Requirement already satisfied: opt-einsum>=2.3.2 in /usr/local/lib/python3.6/dist-packages (from tensorflow==2.1.0) (3.3.0)\n",
            "Requirement already satisfied: scipy==1.4.1; python_version >= \"3\" in /usr/local/lib/python3.6/dist-packages (from tensorflow==2.1.0) (1.4.1)\n",
            "Collecting keras-applications>=1.0.8\n",
            "\u001b[?25l  Downloading https://files.pythonhosted.org/packages/71/e3/19762fdfc62877ae9102edf6342d71b28fbfd9dea3d2f96a882ce099b03f/Keras_Applications-1.0.8-py3-none-any.whl (50kB)\n",
            "\u001b[K     |████████████████████████████████| 51kB 8.4MB/s \n",
            "\u001b[?25hRequirement already satisfied: keras-preprocessing>=1.1.0 in /usr/local/lib/python3.6/dist-packages (from tensorflow==2.1.0) (1.1.2)\n",
            "Requirement already satisfied: setuptools>=41.0.0 in /usr/local/lib/python3.6/dist-packages (from tensorboard<2.2.0,>=2.1.0->tensorflow==2.1.0) (50.3.0)\n",
            "Requirement already satisfied: markdown>=2.6.8 in /usr/local/lib/python3.6/dist-packages (from tensorboard<2.2.0,>=2.1.0->tensorflow==2.1.0) (3.3.2)\n",
            "Requirement already satisfied: google-auth-oauthlib<0.5,>=0.4.1 in /usr/local/lib/python3.6/dist-packages (from tensorboard<2.2.0,>=2.1.0->tensorflow==2.1.0) (0.4.1)\n",
            "Requirement already satisfied: google-auth<2,>=1.6.3 in /usr/local/lib/python3.6/dist-packages (from tensorboard<2.2.0,>=2.1.0->tensorflow==2.1.0) (1.17.2)\n",
            "Requirement already satisfied: requests<3,>=2.21.0 in /usr/local/lib/python3.6/dist-packages (from tensorboard<2.2.0,>=2.1.0->tensorflow==2.1.0) (2.23.0)\n",
            "Requirement already satisfied: werkzeug>=0.11.15 in /usr/local/lib/python3.6/dist-packages (from tensorboard<2.2.0,>=2.1.0->tensorflow==2.1.0) (1.0.1)\n",
            "Requirement already satisfied: h5py in /usr/local/lib/python3.6/dist-packages (from keras-applications>=1.0.8->tensorflow==2.1.0) (2.10.0)\n",
            "Requirement already satisfied: importlib-metadata; python_version < \"3.8\" in /usr/local/lib/python3.6/dist-packages (from markdown>=2.6.8->tensorboard<2.2.0,>=2.1.0->tensorflow==2.1.0) (2.0.0)\n",
            "Requirement already satisfied: requests-oauthlib>=0.7.0 in /usr/local/lib/python3.6/dist-packages (from google-auth-oauthlib<0.5,>=0.4.1->tensorboard<2.2.0,>=2.1.0->tensorflow==2.1.0) (1.3.0)\n",
            "Requirement already satisfied: pyasn1-modules>=0.2.1 in /usr/local/lib/python3.6/dist-packages (from google-auth<2,>=1.6.3->tensorboard<2.2.0,>=2.1.0->tensorflow==2.1.0) (0.2.8)\n",
            "Requirement already satisfied: rsa<5,>=3.1.4; python_version >= \"3\" in /usr/local/lib/python3.6/dist-packages (from google-auth<2,>=1.6.3->tensorboard<2.2.0,>=2.1.0->tensorflow==2.1.0) (4.6)\n",
            "Requirement already satisfied: cachetools<5.0,>=2.0.0 in /usr/local/lib/python3.6/dist-packages (from google-auth<2,>=1.6.3->tensorboard<2.2.0,>=2.1.0->tensorflow==2.1.0) (4.1.1)\n",
            "Requirement already satisfied: certifi>=2017.4.17 in /usr/local/lib/python3.6/dist-packages (from requests<3,>=2.21.0->tensorboard<2.2.0,>=2.1.0->tensorflow==2.1.0) (2020.6.20)\n",
            "Requirement already satisfied: idna<3,>=2.5 in /usr/local/lib/python3.6/dist-packages (from requests<3,>=2.21.0->tensorboard<2.2.0,>=2.1.0->tensorflow==2.1.0) (2.10)\n",
            "Requirement already satisfied: chardet<4,>=3.0.2 in /usr/local/lib/python3.6/dist-packages (from requests<3,>=2.21.0->tensorboard<2.2.0,>=2.1.0->tensorflow==2.1.0) (3.0.4)\n",
            "Requirement already satisfied: urllib3!=1.25.0,!=1.25.1,<1.26,>=1.21.1 in /usr/local/lib/python3.6/dist-packages (from requests<3,>=2.21.0->tensorboard<2.2.0,>=2.1.0->tensorflow==2.1.0) (1.24.3)\n",
            "Requirement already satisfied: zipp>=0.5 in /usr/local/lib/python3.6/dist-packages (from importlib-metadata; python_version < \"3.8\"->markdown>=2.6.8->tensorboard<2.2.0,>=2.1.0->tensorflow==2.1.0) (3.3.1)\n",
            "Requirement already satisfied: oauthlib>=3.0.0 in /usr/local/lib/python3.6/dist-packages (from requests-oauthlib>=0.7.0->google-auth-oauthlib<0.5,>=0.4.1->tensorboard<2.2.0,>=2.1.0->tensorflow==2.1.0) (3.1.0)\n",
            "Requirement already satisfied: pyasn1<0.5.0,>=0.4.6 in /usr/local/lib/python3.6/dist-packages (from pyasn1-modules>=0.2.1->google-auth<2,>=1.6.3->tensorboard<2.2.0,>=2.1.0->tensorflow==2.1.0) (0.4.8)\n",
            "Building wheels for collected packages: gast\n",
            "  Building wheel for gast (setup.py) ... \u001b[?25l\u001b[?25hdone\n",
            "  Created wheel for gast: filename=gast-0.2.2-cp36-none-any.whl size=7542 sha256=b61669f1024aa643db8ccb0b42ae56bb842fc069748af6d29667c3da66e0db56\n",
            "  Stored in directory: /root/.cache/pip/wheels/5c/2e/7e/a1d4d4fcebe6c381f378ce7743a3ced3699feb89bcfbdadadd\n",
            "Successfully built gast\n",
            "\u001b[31mERROR: tensorflow-probability 0.11.0 has requirement gast>=0.3.2, but you'll have gast 0.2.2 which is incompatible.\u001b[0m\n",
            "Installing collected packages: tensorflow-estimator, tensorboard, gast, keras-applications, tensorflow\n",
            "  Found existing installation: tensorflow-estimator 2.3.0\n",
            "    Uninstalling tensorflow-estimator-2.3.0:\n",
            "      Successfully uninstalled tensorflow-estimator-2.3.0\n",
            "  Found existing installation: tensorboard 2.3.0\n",
            "    Uninstalling tensorboard-2.3.0:\n",
            "      Successfully uninstalled tensorboard-2.3.0\n",
            "  Found existing installation: gast 0.3.3\n",
            "    Uninstalling gast-0.3.3:\n",
            "      Successfully uninstalled gast-0.3.3\n",
            "  Found existing installation: tensorflow 2.3.0\n",
            "    Uninstalling tensorflow-2.3.0:\n",
            "      Successfully uninstalled tensorflow-2.3.0\n",
            "Successfully installed gast-0.2.2 keras-applications-1.0.8 tensorboard-2.1.1 tensorflow-2.1.0 tensorflow-estimator-2.1.0\n",
            "Collecting Keras==2.3.1\n",
            "\u001b[?25l  Downloading https://files.pythonhosted.org/packages/ad/fd/6bfe87920d7f4fd475acd28500a42482b6b84479832bdc0fe9e589a60ceb/Keras-2.3.1-py2.py3-none-any.whl (377kB)\n",
            "\u001b[K     |████████████████████████████████| 378kB 11.9MB/s \n",
            "\u001b[?25hRequirement already satisfied: keras-applications>=1.0.6 in /usr/local/lib/python3.6/dist-packages (from Keras==2.3.1) (1.0.8)\n",
            "Requirement already satisfied: scipy>=0.14 in /usr/local/lib/python3.6/dist-packages (from Keras==2.3.1) (1.4.1)\n",
            "Requirement already satisfied: pyyaml in /usr/local/lib/python3.6/dist-packages (from Keras==2.3.1) (3.13)\n",
            "Requirement already satisfied: numpy>=1.9.1 in /usr/local/lib/python3.6/dist-packages (from Keras==2.3.1) (1.18.5)\n",
            "Requirement already satisfied: six>=1.9.0 in /usr/local/lib/python3.6/dist-packages (from Keras==2.3.1) (1.15.0)\n",
            "Requirement already satisfied: h5py in /usr/local/lib/python3.6/dist-packages (from Keras==2.3.1) (2.10.0)\n",
            "Requirement already satisfied: keras-preprocessing>=1.0.5 in /usr/local/lib/python3.6/dist-packages (from Keras==2.3.1) (1.1.2)\n",
            "Installing collected packages: Keras\n",
            "  Found existing installation: Keras 2.4.3\n",
            "    Uninstalling Keras-2.4.3:\n",
            "      Successfully uninstalled Keras-2.4.3\n",
            "Successfully installed Keras-2.3.1\n"
          ],
          "name": "stdout"
        }
      ]
    },
    {
      "cell_type": "code",
      "metadata": {
        "id": "R6OBMEp4UDu0",
        "outputId": "320b0112-67ef-4e77-f110-fa57b3d9a3e2",
        "colab": {
          "base_uri": "https://localhost:8080/",
          "height": 34
        }
      },
      "source": [
        "try:\n",
        "  from google.colab import drive\n",
        "  import os\n",
        "  drive.mount('/content/drive')\n",
        "  os.makedirs(data_dir, exist_ok=True)\n",
        "except ImportError:\n",
        "  data_dir = '.'"
      ],
      "execution_count": 2,
      "outputs": [
        {
          "output_type": "stream",
          "text": [
            "Mounted at /content/drive\n"
          ],
          "name": "stdout"
        }
      ]
    },
    {
      "cell_type": "code",
      "metadata": {
        "id": "rm28Ks46Q-sb",
        "outputId": "c3fff22e-d4b0-4b09-eef6-b637c501571a",
        "colab": {
          "base_uri": "https://localhost:8080/",
          "height": 34
        }
      },
      "source": [
        "import os\n",
        "import time\n",
        "import numpy as np\n",
        "import tensorflow as tf\n",
        "from skimage.io import imread\n",
        "\n",
        "from keras.backend.tensorflow_backend import set_session\n",
        "\n",
        "from keras.models import Model\n",
        "\n",
        "np.random.seed(42)\n",
        "tf.random.set_seed(42)"
      ],
      "execution_count": 3,
      "outputs": [
        {
          "output_type": "stream",
          "text": [
            "Using TensorFlow backend.\n"
          ],
          "name": "stderr"
        }
      ]
    },
    {
      "cell_type": "code",
      "metadata": {
        "id": "lPttqCFaRM6i"
      },
      "source": [
        "from keras.layers import Input\n",
        "from keras.applications import xception\n",
        "from keras.preprocessing import image\n",
        "from keras.utils import to_categorical"
      ],
      "execution_count": 4,
      "outputs": []
    },
    {
      "cell_type": "code",
      "metadata": {
        "id": "i3halsOE774o"
      },
      "source": [
        "!cp -r '/content/drive/My Drive/image_dataset' '/content/sample_data'"
      ],
      "execution_count": 8,
      "outputs": []
    },
    {
      "cell_type": "code",
      "metadata": {
        "id": "X34Ay6WkJyuI"
      },
      "source": [
        "IMGS = np.zeros((400, 150, 150, 3), dtype='uint8')\n",
        "\n",
        "for i, im in enumerate(next(os.walk('/content/sample_data/image_dataset/seg_test/buildings'))[2]):\n",
        "  img = imread('/content/sample_data/image_dataset/seg_test/buildings/' + im)\n",
        "  try:\n",
        "    IMGS[i] = img\n",
        "  except IndexError:\n",
        "    break"
      ],
      "execution_count": 133,
      "outputs": []
    },
    {
      "cell_type": "code",
      "metadata": {
        "id": "lVSoSDSLSlGQ"
      },
      "source": [
        "train_data_dir = '/content/sample_data/image_dataset/seg_train'\n",
        "test_data_dir = '/content/sample_data/image_dataset/seg_test'\n",
        "validation_data_dir = '/content/sample_data/image_dataset/seg_val'\n",
        "\n",
        "img_height = 150\n",
        "img_width = 150\n",
        "\n",
        "batch_size = 16\n",
        "epochs = 10\n",
        "\n",
        "labels = []\n",
        "accur = []\n",
        "spd = []\n",
        "\n",
        "train_building_class = len(next(os.walk(train_data_dir + '/buildings'))[2])\n",
        "train_forest_class = len(next(os.walk(train_data_dir + '/forest'))[2])\n",
        "train_glacier_class = len(next(os.walk(train_data_dir + '/glacier'))[2])\n",
        "train_mountain_class = len(next(os.walk(train_data_dir + '/mountain'))[2])\n",
        "train_sea_class = len(next(os.walk(train_data_dir + '/sea'))[2])\n",
        "train_street_class = len(next(os.walk(train_data_dir + '/street'))[2])\n",
        "\n",
        "nb_train_samples = np.sum([train_building_class,\n",
        "                           train_forest_class,\n",
        "                           train_glacier_class,\n",
        "                           train_mountain_class,\n",
        "                           train_sea_class,\n",
        "                           train_street_class])\n",
        "\n",
        "nb_validation_samples = 200 * 6"
      ],
      "execution_count": 52,
      "outputs": []
    },
    {
      "cell_type": "code",
      "metadata": {
        "id": "1ExkoLv2y50f",
        "outputId": "986523f2-ba0f-4485-e526-8b0bdc0cf061",
        "colab": {
          "base_uri": "https://localhost:8080/",
          "height": 102
        }
      },
      "source": [
        "input_tensor = Input(shape=(img_height,img_width,3))\n",
        "\n",
        "base_model = xception.Xception(weights='imagenet',\n",
        "                          include_top=False,\n",
        "                          input_shape=(img_width, img_height, 3),\n",
        "                          pooling='avg')\n",
        "\n",
        "data_generator = image.ImageDataGenerator(rescale=1. / 255)\n",
        "\n",
        "train_generator = data_generator.flow_from_directory(\n",
        "    train_data_dir,\n",
        "    target_size=(img_height, img_width),\n",
        "    batch_size=batch_size,\n",
        "    class_mode='categorical',\n",
        "    shuffle=False)\n",
        "\n",
        "bottleneck_features_train = base_model.predict_generator(\n",
        "        train_generator, \n",
        "        nb_train_samples // batch_size,\n",
        "        verbose=1)\n",
        "\n",
        "print('Prediction of the training set finished.')\n",
        "\n",
        "np.save(open('bottleneck_features_train_xception.npy', 'wb'),\n",
        "            bottleneck_features_train)\n",
        "\n",
        "validation_generator = data_generator.flow_from_directory(\n",
        "    validation_data_dir,\n",
        "    target_size=(img_height, img_width),\n",
        "    batch_size=batch_size,\n",
        "    class_mode='categorical',\n",
        "    shuffle=False)\n",
        "\n",
        "bottleneck_features_validation = base_model.predict_generator(\n",
        "        validation_generator, \n",
        "        nb_validation_samples // batch_size)\n",
        "\n",
        "print('Prediction of the validation set finished.')\n",
        "\n",
        "np.save(open('bottleneck_features_validation_xception.npy', 'wb'),\n",
        "            bottleneck_features_validation)"
      ],
      "execution_count": 53,
      "outputs": [
        {
          "output_type": "stream",
          "text": [
            "Found 12832 images belonging to 6 classes.\n",
            "802/802 [==============================] - 41s 51ms/step\n",
            "Prediction of the training set finished.\n",
            "Found 1200 images belonging to 6 classes.\n",
            "Prediction of the validation set finished.\n"
          ],
          "name": "stdout"
        }
      ]
    },
    {
      "cell_type": "code",
      "metadata": {
        "id": "Z3SKBbg7zhPB"
      },
      "source": [
        "train_data = np.load(open('bottleneck_features_train_xception.npy', 'rb'))\n",
        "train_labels = np.array(([0] * train_building_class) + ([1] * train_forest_class) + ([2] * train_glacier_class) + ([3] * train_mountain_class) + ([4] * train_sea_class) + ([5] * train_street_class))\n",
        "train_labels = to_categorical(train_labels)\n",
        "\n",
        "validation_data = np.load(open('bottleneck_features_validation_xception.npy', 'rb'))\n",
        "validation_labels = np.array([0] * (200) + [1] * (200) + [2] * (200) + [3] * (200) + [4] * (200) + [5] * (200))\n",
        "validation_labels = to_categorical(validation_labels)"
      ],
      "execution_count": 54,
      "outputs": []
    },
    {
      "cell_type": "code",
      "metadata": {
        "id": "OxgIz-Pi19q8",
        "outputId": "d13f1e95-269e-4665-9ddb-95673588c483",
        "colab": {
          "base_uri": "https://localhost:8080/",
          "height": 714
        }
      },
      "source": [
        "from keras.models import Sequential\n",
        "from keras.callbacks import ModelCheckpoint\n",
        "from keras.optimizers import SGD\n",
        "from keras.layers import Dropout, Dense\n",
        "\n",
        "model = Sequential()\n",
        "    \n",
        "model.add(Dense(256, activation='relu', input_shape=base_model.output_shape[1:]))\n",
        "model.add(Dropout(0.5))\n",
        "\n",
        "model.add(Dense(128, activation='relu'))\n",
        "model.add(Dropout(0.5))    \n",
        "\n",
        "model.add(Dense(6, activation='softmax'))\n",
        "\n",
        "model.compile(optimizer=SGD(lr=0.005),\n",
        "              loss='categorical_crossentropy',\n",
        "              metrics=['accuracy'])\n",
        "\n",
        "checkpointer = ModelCheckpoint(filepath='top-weights-xception.hdf5', verbose=1, save_best_only=True)\n",
        "\n",
        "history = model.fit(train_data,\n",
        "                    train_labels,\n",
        "                    epochs=10,\n",
        "                    batch_size=batch_size,\n",
        "                    callbacks=[checkpointer],\n",
        "                    validation_data=(validation_data, validation_labels))"
      ],
      "execution_count": 55,
      "outputs": [
        {
          "output_type": "stream",
          "text": [
            "Train on 12832 samples, validate on 1200 samples\n",
            "Epoch 1/10\n",
            "12832/12832 [==============================] - 2s 193us/step - loss: 0.8401 - accuracy: 0.6917 - val_loss: 0.3707 - val_accuracy: 0.8783\n",
            "\n",
            "Epoch 00001: val_loss improved from inf to 0.37072, saving model to top-weights-xception.hdf5\n",
            "Epoch 2/10\n",
            "12832/12832 [==============================] - 3s 204us/step - loss: 0.4712 - accuracy: 0.8325 - val_loss: 0.3236 - val_accuracy: 0.8875\n",
            "\n",
            "Epoch 00002: val_loss improved from 0.37072 to 0.32363, saving model to top-weights-xception.hdf5\n",
            "Epoch 3/10\n",
            "12832/12832 [==============================] - 3s 197us/step - loss: 0.4052 - accuracy: 0.8583 - val_loss: 0.3123 - val_accuracy: 0.8883\n",
            "\n",
            "Epoch 00003: val_loss improved from 0.32363 to 0.31232, saving model to top-weights-xception.hdf5\n",
            "Epoch 4/10\n",
            "12832/12832 [==============================] - 2s 176us/step - loss: 0.3712 - accuracy: 0.8678 - val_loss: 0.2891 - val_accuracy: 0.8967\n",
            "\n",
            "Epoch 00004: val_loss improved from 0.31232 to 0.28915, saving model to top-weights-xception.hdf5\n",
            "Epoch 5/10\n",
            "12832/12832 [==============================] - 2s 184us/step - loss: 0.3571 - accuracy: 0.8760 - val_loss: 0.2816 - val_accuracy: 0.8950\n",
            "\n",
            "Epoch 00005: val_loss improved from 0.28915 to 0.28161, saving model to top-weights-xception.hdf5\n",
            "Epoch 6/10\n",
            "12832/12832 [==============================] - 2s 182us/step - loss: 0.3368 - accuracy: 0.8794 - val_loss: 0.2784 - val_accuracy: 0.9008\n",
            "\n",
            "Epoch 00006: val_loss improved from 0.28161 to 0.27837, saving model to top-weights-xception.hdf5\n",
            "Epoch 7/10\n",
            "12832/12832 [==============================] - 2s 178us/step - loss: 0.3259 - accuracy: 0.8841 - val_loss: 0.2753 - val_accuracy: 0.8942\n",
            "\n",
            "Epoch 00007: val_loss improved from 0.27837 to 0.27529, saving model to top-weights-xception.hdf5\n",
            "Epoch 8/10\n",
            "12832/12832 [==============================] - 2s 174us/step - loss: 0.3096 - accuracy: 0.8923 - val_loss: 0.2702 - val_accuracy: 0.8975\n",
            "\n",
            "Epoch 00008: val_loss improved from 0.27529 to 0.27025, saving model to top-weights-xception.hdf5\n",
            "Epoch 9/10\n",
            "12832/12832 [==============================] - 2s 184us/step - loss: 0.3020 - accuracy: 0.8927 - val_loss: 0.2706 - val_accuracy: 0.8967\n",
            "\n",
            "Epoch 00009: val_loss did not improve from 0.27025\n",
            "Epoch 10/10\n",
            "12832/12832 [==============================] - 2s 187us/step - loss: 0.2927 - accuracy: 0.8959 - val_loss: 0.2669 - val_accuracy: 0.9008\n",
            "\n",
            "Epoch 00010: val_loss improved from 0.27025 to 0.26690, saving model to top-weights-xception.hdf5\n"
          ],
          "name": "stdout"
        }
      ]
    },
    {
      "cell_type": "code",
      "metadata": {
        "id": "upLjWbLt1-nI",
        "outputId": "19c53298-b2cf-4a7e-efd3-4b6dbc8067ee",
        "colab": {
          "base_uri": "https://localhost:8080/",
          "height": 573
        }
      },
      "source": [
        "%matplotlib inline\n",
        "from matplotlib import pyplot as plt\n",
        "\n",
        "plt.plot(history.history['accuracy'])\n",
        "plt.plot(history.history['val_accuracy'])\n",
        "plt.title('model accuracy')\n",
        "plt.ylabel('accuracy')\n",
        "plt.xlabel('epoch')\n",
        "plt.legend(['train', 'test'], loc='upper left')\n",
        "plt.show()\n",
        "\n",
        "plt.plot(history.history['loss'])\n",
        "plt.plot(history.history['val_loss'])\n",
        "plt.title('model loss')\n",
        "plt.ylabel('loss')\n",
        "plt.xlabel('epoch')\n",
        "plt.legend(['train', 'test'], loc='upper left')\n",
        "plt.show()"
      ],
      "execution_count": 56,
      "outputs": [
        {
          "output_type": "display_data",
          "data": {
            "image/png": "[encoded data removed]",
            "text/plain": [
              "<Figure size 432x288 with 1 Axes>"
            ]
          },
          "metadata": {
            "tags": [],
            "needs_background": "light"
          }
        },
        {
          "output_type": "display_data",
          "data": {
            "image/png": "[encoded data removed]",
            "text/plain": [
              "<Figure size 432x288 with 1 Axes>"
            ]
          },
          "metadata": {
            "tags": [],
            "needs_background": "light"
          }
        }
      ]
    },
    {
      "cell_type": "code",
      "metadata": {
        "id": "7AXYRmFY2BrH",
        "outputId": "9d44d5f5-8f67-4af1-fd28-82bbbeefeb5c",
        "colab": {
          "base_uri": "https://localhost:8080/",
          "height": 221
        }
      },
      "source": [
        "batch_size = 8\n",
        "epochs = 5\n",
        "\n",
        "input_tensor = Input(shape=(img_height,img_width,3))\n",
        "\n",
        "base_model = xception.Xception(weights='imagenet',\n",
        "                                            include_top=False,\n",
        "                                            input_shape=(img_width, img_height, 3),\n",
        "                                            pooling='avg')\n",
        "\n",
        "top_model = Sequential()\n",
        "    \n",
        "top_model.add(Dense(256, activation='relu', input_shape=base_model.output_shape[1:]))\n",
        "top_model.add(Dropout(0.5))\n",
        "\n",
        "top_model.add(Dense(128, activation='relu'))\n",
        "top_model.add(Dropout(0.5))    \n",
        "\n",
        "top_model.add(Dense(6, activation='softmax'))\n",
        "\n",
        "top_model.load_weights('top-weights-xception.hdf5')\n",
        "\n",
        "model = Model(inputs=base_model.input, outputs=top_model(base_model.output))\n",
        "\n",
        "model.compile(optimizer=SGD(lr=0.005, momentum=0.1, nesterov=True),\n",
        "              loss='categorical_crossentropy',\n",
        "              metrics=['accuracy'])\n",
        "\n",
        "\n",
        "checkpointer = ModelCheckpoint(filepath='top-weights-xception.hdf5', verbose=1, save_best_only=True)\n",
        "\n",
        "train_datagen = image.ImageDataGenerator(\n",
        "        rescale=1./255,\n",
        "        shear_range=0.2,\n",
        "        zoom_range=0.2,\n",
        "        horizontal_flip=True)\n",
        "\n",
        "test_datagen = image.ImageDataGenerator(rescale=1./255)\n",
        "\n",
        "train_generator = train_datagen.flow_from_directory(\n",
        "        train_data_dir,\n",
        "        target_size=(img_height, img_width),\n",
        "        batch_size=batch_size,\n",
        "        class_mode='categorical')\n",
        "\n",
        "validation_generator = test_datagen.flow_from_directory(\n",
        "        validation_data_dir,\n",
        "        target_size=(img_height, img_width),\n",
        "        batch_size=batch_size,\n",
        "        class_mode='categorical')\n",
        "\n",
        "history = model.fit_generator(train_generator,\n",
        "                            steps_per_epoch=nb_train_samples // batch_size,\n",
        "                            epochs=epochs,\n",
        "                            validation_data=validation_generator,\n",
        "                            validation_steps=nb_validation_samples // batch_size)"
      ],
      "execution_count": 57,
      "outputs": [
        {
          "output_type": "stream",
          "text": [
            "Found 12832 images belonging to 6 classes.\n",
            "Found 1200 images belonging to 6 classes.\n",
            "Epoch 1/5\n",
            "1604/1604 [==============================] - 235s 146ms/step - loss: 0.5827 - accuracy: 0.7986 - val_loss: 0.8047 - val_accuracy: 0.9142\n",
            "Epoch 2/5\n",
            "1604/1604 [==============================] - 225s 140ms/step - loss: 0.4032 - accuracy: 0.8672 - val_loss: 0.4228 - val_accuracy: 0.9175\n",
            "Epoch 3/5\n",
            "1604/1604 [==============================] - 226s 141ms/step - loss: 0.3271 - accuracy: 0.8933 - val_loss: 0.3138 - val_accuracy: 0.9167\n",
            "Epoch 4/5\n",
            "1604/1604 [==============================] - 224s 140ms/step - loss: 0.2900 - accuracy: 0.9041 - val_loss: 0.0176 - val_accuracy: 0.9317\n",
            "Epoch 5/5\n",
            "1604/1604 [==============================] - 224s 140ms/step - loss: 0.2538 - accuracy: 0.9161 - val_loss: 0.0094 - val_accuracy: 0.9258\n"
          ],
          "name": "stdout"
        }
      ]
    },
    {
      "cell_type": "code",
      "metadata": {
        "id": "oKf6tGoJ_wsb",
        "outputId": "9f232e1d-5e05-4d08-adcc-8d09a67321a2",
        "colab": {
          "base_uri": "https://localhost:8080/",
          "height": 51
        }
      },
      "source": [
        "test_generator = data_generator.flow_from_directory(\n",
        "    test_data_dir,\n",
        "    target_size=(img_height, img_width),\n",
        "    batch_size=batch_size,\n",
        "    class_mode='categorical',\n",
        "    shuffle=False)\n",
        "\n",
        "score = model.evaluate_generator(test_generator, batch_size)\n",
        "\n",
        "print(\"Loss: \", score[0], \"Accuracy: \", score[1])\n",
        "accur.append(score[1])"
      ],
      "execution_count": 58,
      "outputs": [
        {
          "output_type": "stream",
          "text": [
            "Found 3000 images belonging to 6 classes.\n",
            "Loss:  0.32907718420028687 Accuracy:  0.953125\n"
          ],
          "name": "stdout"
        }
      ]
    },
    {
      "cell_type": "code",
      "metadata": {
        "id": "mXtLtRQ5KQCJ",
        "outputId": "93d672e1-52e6-48c7-c45d-1899126a627f",
        "colab": {
          "base_uri": "https://localhost:8080/",
          "height": 34
        }
      },
      "source": [
        "start_time = time.time()\n",
        "model.predict(IMGS)\n",
        "spd.append(400 / (time.time() - start_time))\n",
        "print(\"--- %s seconds ---\" % (time.time() - start_time))\n",
        "labels.append('xception')"
      ],
      "execution_count": 140,
      "outputs": [
        {
          "output_type": "stream",
          "text": [
            "--- 1.1555354595184326 seconds ---\n"
          ],
          "name": "stdout"
        }
      ]
    },
    {
      "cell_type": "code",
      "metadata": {
        "id": "X8PK775fNEvp",
        "outputId": "e6f8b4cf-c081-4353-c24b-1a7e0c04c4e9",
        "colab": {
          "base_uri": "https://localhost:8080/",
          "height": 35
        }
      },
      "source": [
        ""
      ],
      "execution_count": 144,
      "outputs": [
        {
          "output_type": "execute_result",
          "data": {
            "application/vnd.google.colaboratory.intrinsic+json": {
              "type": "string"
            },
            "text/plain": [
              "'104.49768328666687'"
            ]
          },
          "metadata": {
            "tags": []
          },
          "execution_count": 144
        }
      ]
    },
    {
      "cell_type": "code",
      "metadata": {
        "id": "NZ-jZXEo_8ln"
      },
      "source": [
        "from keras.applications import densenet"
      ],
      "execution_count": 59,
      "outputs": []
    },
    {
      "cell_type": "code",
      "metadata": {
        "id": "hk5M1VkvFusv",
        "outputId": "d3425edd-c39a-46b8-a5b1-4fd1f9e7f1a5",
        "colab": {
          "base_uri": "https://localhost:8080/",
          "height": 85
        }
      },
      "source": [
        "batch_size = 16\n",
        "\n",
        "input_tensor = Input(shape=(img_height,img_width,3))\n",
        "\n",
        "base_model = densenet.DenseNet121(weights='imagenet',\n",
        "                          include_top=False,\n",
        "                          input_shape=(img_width, img_height, 3),\n",
        "                          pooling='avg')\n",
        "\n",
        "data_generator = image.ImageDataGenerator(rescale=1. / 255)\n",
        "\n",
        "train_generator = data_generator.flow_from_directory(\n",
        "    train_data_dir,\n",
        "    target_size=(img_height, img_width),\n",
        "    batch_size=batch_size,\n",
        "    class_mode='categorical',\n",
        "    shuffle=False)\n",
        "\n",
        "bottleneck_features_train = base_model.predict_generator(\n",
        "        train_generator, \n",
        "        nb_train_samples // batch_size)\n",
        "\n",
        "print('Prediction of the training set finished.')\n",
        "\n",
        "np.save(open('bottleneck_features_train_dense.npy', 'wb'),\n",
        "            bottleneck_features_train)\n",
        "\n",
        "validation_generator = data_generator.flow_from_directory(\n",
        "    validation_data_dir,\n",
        "    target_size=(img_height, img_width),\n",
        "    batch_size=batch_size,\n",
        "    class_mode='categorical',\n",
        "    shuffle=False)\n",
        "\n",
        "bottleneck_features_validation = base_model.predict_generator(\n",
        "        validation_generator, \n",
        "        nb_validation_samples // batch_size)\n",
        "\n",
        "print('Prediction of the validation set finished.')\n",
        "\n",
        "np.save(open('bottleneck_features_validation_dense.npy', 'wb'),\n",
        "            bottleneck_features_validation)"
      ],
      "execution_count": 60,
      "outputs": [
        {
          "output_type": "stream",
          "text": [
            "Found 12832 images belonging to 6 classes.\n",
            "Prediction of the training set finished.\n",
            "Found 1200 images belonging to 6 classes.\n",
            "Prediction of the validation set finished.\n"
          ],
          "name": "stdout"
        }
      ]
    },
    {
      "cell_type": "code",
      "metadata": {
        "id": "YpqCOXObF0yA"
      },
      "source": [
        "train_data = np.load(open('bottleneck_features_train_dense.npy', 'rb'))\n",
        "validation_data = np.load(open('bottleneck_features_validation_dense.npy', 'rb'))"
      ],
      "execution_count": 61,
      "outputs": []
    },
    {
      "cell_type": "code",
      "metadata": {
        "id": "C3SIjOx0F3Tw",
        "outputId": "24d3797b-a234-4243-92cd-3014b40b34e2",
        "colab": {
          "base_uri": "https://localhost:8080/",
          "height": 374
        }
      },
      "source": [
        "model = Sequential()\n",
        "    \n",
        "model.add(Dense(256, activation='relu', input_shape=base_model.output_shape[1:]))\n",
        "model.add(Dropout(0.5))\n",
        "\n",
        "model.add(Dense(128, activation='relu'))\n",
        "model.add(Dropout(0.5))    \n",
        "\n",
        "model.add(Dense(6, activation='softmax'))\n",
        "\n",
        "model.compile(optimizer=SGD(lr=0.005),\n",
        "              loss='categorical_crossentropy',\n",
        "              metrics=['accuracy'])\n",
        "\n",
        "checkpointer = ModelCheckpoint(filepath='top-weights-denseNet.hdf5', verbose=1, save_best_only=True)\n",
        "\n",
        "history_dense = model.fit(train_data,\n",
        "                    train_labels,\n",
        "                    epochs=epochs,\n",
        "                    batch_size=batch_size,\n",
        "                    callbacks=[checkpointer],\n",
        "                    validation_data=(validation_data, validation_labels))"
      ],
      "execution_count": 62,
      "outputs": [
        {
          "output_type": "stream",
          "text": [
            "Train on 12832 samples, validate on 1200 samples\n",
            "Epoch 1/5\n",
            "12832/12832 [==============================] - 3s 205us/step - loss: 0.7956 - accuracy: 0.7021 - val_loss: 0.3583 - val_accuracy: 0.8600\n",
            "\n",
            "Epoch 00001: val_loss improved from inf to 0.35831, saving model to top-weights-denseNet.hdf5\n",
            "Epoch 2/5\n",
            "12832/12832 [==============================] - 2s 176us/step - loss: 0.4780 - accuracy: 0.8254 - val_loss: 0.3308 - val_accuracy: 0.8683\n",
            "\n",
            "Epoch 00002: val_loss improved from 0.35831 to 0.33082, saving model to top-weights-denseNet.hdf5\n",
            "Epoch 3/5\n",
            "12832/12832 [==============================] - 2s 171us/step - loss: 0.4187 - accuracy: 0.8494 - val_loss: 0.3081 - val_accuracy: 0.8900\n",
            "\n",
            "Epoch 00003: val_loss improved from 0.33082 to 0.30815, saving model to top-weights-denseNet.hdf5\n",
            "Epoch 4/5\n",
            "12832/12832 [==============================] - 2s 186us/step - loss: 0.3790 - accuracy: 0.8656 - val_loss: 0.2992 - val_accuracy: 0.8900\n",
            "\n",
            "Epoch 00004: val_loss improved from 0.30815 to 0.29923, saving model to top-weights-denseNet.hdf5\n",
            "Epoch 5/5\n",
            "12832/12832 [==============================] - 2s 168us/step - loss: 0.3558 - accuracy: 0.8695 - val_loss: 0.2940 - val_accuracy: 0.8908\n",
            "\n",
            "Epoch 00005: val_loss improved from 0.29923 to 0.29405, saving model to top-weights-denseNet.hdf5\n"
          ],
          "name": "stdout"
        }
      ]
    },
    {
      "cell_type": "code",
      "metadata": {
        "id": "f8nmye-QF5pQ",
        "outputId": "8b187299-3ae9-4d5b-e2ce-0e1e477f4fd9",
        "colab": {
          "base_uri": "https://localhost:8080/",
          "height": 573
        }
      },
      "source": [
        "plt.plot(history.history['accuracy'])\n",
        "plt.plot(history.history['val_accuracy'])\n",
        "plt.title('model accuracy')\n",
        "plt.ylabel('accuracy')\n",
        "plt.xlabel('epoch')\n",
        "plt.legend(['train', 'test'], loc='upper left')\n",
        "plt.show()\n",
        "\n",
        "plt.plot(history.history['loss'])\n",
        "plt.plot(history.history['val_loss'])\n",
        "plt.title('model loss')\n",
        "plt.ylabel('loss')\n",
        "plt.xlabel('epoch')\n",
        "plt.legend(['train', 'test'], loc='upper left')\n",
        "plt.show()"
      ],
      "execution_count": 63,
      "outputs": [
        {
          "output_type": "display_data",
          "data": {
            "image/png": "[encoded data removed]",
            "text/plain": [
              "<Figure size 432x288 with 1 Axes>"
            ]
          },
          "metadata": {
            "tags": [],
            "needs_background": "light"
          }
        },
        {
          "output_type": "display_data",
          "data": {
            "image/png": "[encoded data removed]",
            "text/plain": [
              "<Figure size 432x288 with 1 Axes>"
            ]
          },
          "metadata": {
            "tags": [],
            "needs_background": "light"
          }
        }
      ]
    },
    {
      "cell_type": "code",
      "metadata": {
        "id": "UIf7Ys3ZGE6Z",
        "outputId": "06b1604c-b8aa-49b7-fb7b-45e21a70ea0a",
        "colab": {
          "base_uri": "https://localhost:8080/",
          "height": 221
        }
      },
      "source": [
        "batch_size = 8\n",
        "epochs = 5\n",
        "\n",
        "input_tensor = Input(shape=(img_height,img_width,3))\n",
        "\n",
        "base_model = densenet.DenseNet121(weights='imagenet',\n",
        "                          include_top=False,\n",
        "                          input_shape=(img_width, img_height, 3),\n",
        "                          pooling='avg')\n",
        "\n",
        "top_model = Sequential()\n",
        "    \n",
        "top_model.add(Dense(256, activation='relu', input_shape=base_model.output_shape[1:]))\n",
        "top_model.add(Dropout(0.5))\n",
        "\n",
        "top_model.add(Dense(128, activation='relu'))\n",
        "top_model.add(Dropout(0.5))    \n",
        "\n",
        "top_model.add(Dense(6, activation='softmax'))\n",
        "\n",
        "top_model.load_weights('top-weights-denseNet.hdf5')\n",
        "\n",
        "model = Model(inputs=base_model.input, outputs=top_model(base_model.output))\n",
        "\n",
        "model.compile(optimizer=SGD(lr=0.005, momentum=0.1, nesterov=True),\n",
        "              loss='categorical_crossentropy',\n",
        "              metrics=['accuracy'])\n",
        "\n",
        "\n",
        "checkpointer = ModelCheckpoint(filepath='top-weights-denseNet.hdf5', verbose=1, save_best_only=True)\n",
        "\n",
        "train_datagen = image.ImageDataGenerator(\n",
        "        rescale=1./255,\n",
        "        shear_range=0.2,\n",
        "        zoom_range=0.2,\n",
        "        horizontal_flip=True)\n",
        "\n",
        "test_datagen = image.ImageDataGenerator(rescale=1./255)\n",
        "\n",
        "train_generator = train_datagen.flow_from_directory(\n",
        "        train_data_dir,\n",
        "        target_size=(img_height, img_width),\n",
        "        batch_size=batch_size,\n",
        "        class_mode='categorical')\n",
        "\n",
        "validation_generator = test_datagen.flow_from_directory(\n",
        "        validation_data_dir,\n",
        "        target_size=(img_height, img_width),\n",
        "        batch_size=batch_size,\n",
        "        class_mode='categorical')\n",
        "\n",
        "history = model.fit_generator(train_generator,\n",
        "                            steps_per_epoch=nb_train_samples // batch_size,\n",
        "                            epochs=epochs,\n",
        "                            validation_data=validation_generator,\n",
        "                            validation_steps=nb_validation_samples // batch_size)"
      ],
      "execution_count": 64,
      "outputs": [
        {
          "output_type": "stream",
          "text": [
            "Found 12832 images belonging to 6 classes.\n",
            "Found 1200 images belonging to 6 classes.\n",
            "Epoch 1/5\n",
            "1604/1604 [==============================] - 361s 225ms/step - loss: 0.6384 - accuracy: 0.7812 - val_loss: 0.2270 - val_accuracy: 0.9217\n",
            "Epoch 2/5\n",
            "1604/1604 [==============================] - 332s 207ms/step - loss: 0.4642 - accuracy: 0.8503 - val_loss: 0.0437 - val_accuracy: 0.8925\n",
            "Epoch 3/5\n",
            "1604/1604 [==============================] - 329s 205ms/step - loss: 0.3706 - accuracy: 0.8797 - val_loss: 0.0068 - val_accuracy: 0.9267\n",
            "Epoch 4/5\n",
            "1604/1604 [==============================] - 329s 205ms/step - loss: 0.3384 - accuracy: 0.8886 - val_loss: 0.0592 - val_accuracy: 0.9133\n",
            "Epoch 5/5\n",
            "1604/1604 [==============================] - 329s 205ms/step - loss: 0.2978 - accuracy: 0.9002 - val_loss: 0.0270 - val_accuracy: 0.9258\n"
          ],
          "name": "stdout"
        }
      ]
    },
    {
      "cell_type": "code",
      "metadata": {
        "id": "dXUjjpgFGdq_",
        "outputId": "f4ca5f17-c69d-4d51-b0cd-6f216e458fd2",
        "colab": {
          "base_uri": "https://localhost:8080/",
          "height": 51
        }
      },
      "source": [
        "test_generator = data_generator.flow_from_directory(\n",
        "    test_data_dir,\n",
        "    target_size=(img_height, img_width),\n",
        "    batch_size=batch_size,\n",
        "    class_mode='categorical',\n",
        "    shuffle=False)\n",
        "\n",
        "score = model.evaluate_generator(test_generator, batch_size)\n",
        "\n",
        "print(\"Loss: \", score[0], \"Accuracy: \", score[1])\n",
        "accur.append(score[1])"
      ],
      "execution_count": 65,
      "outputs": [
        {
          "output_type": "stream",
          "text": [
            "Found 3000 images belonging to 6 classes.\n",
            "Loss:  0.019764859229326248 Accuracy:  0.984375\n"
          ],
          "name": "stdout"
        }
      ]
    },
    {
      "cell_type": "code",
      "metadata": {
        "id": "3UPywZlYKSg9"
      },
      "source": [
        "start_time = time.time()\n",
        "model.predict(IMGS)\n",
        "spd.append(400 / (time.time() - start_time))\n",
        "print(\"--- %s seconds ---\" % (time.time() - start_time))\n",
        "labels.append('denseNet')"
      ],
      "execution_count": null,
      "outputs": []
    },
    {
      "cell_type": "code",
      "metadata": {
        "id": "OsIa1HwcGii4"
      },
      "source": [
        "from keras.applications import InceptionV3"
      ],
      "execution_count": 67,
      "outputs": []
    },
    {
      "cell_type": "code",
      "metadata": {
        "id": "AXM72n1pG2C4",
        "outputId": "b69b361f-d79e-45f5-f168-3afc5d57f126",
        "colab": {
          "base_uri": "https://localhost:8080/",
          "height": 85
        }
      },
      "source": [
        "input_tensor = Input(shape=(img_height,img_width,3))\n",
        "\n",
        "base_model = InceptionV3(weights='imagenet',\n",
        "                          include_top=False,\n",
        "                          input_shape=(img_width, img_height, 3),\n",
        "                          pooling='avg')\n",
        "\n",
        "data_generator = image.ImageDataGenerator(rescale=1. / 255)\n",
        "\n",
        "train_generator = data_generator.flow_from_directory(\n",
        "    train_data_dir,\n",
        "    target_size=(img_height, img_width),\n",
        "    batch_size=batch_size,\n",
        "    class_mode='categorical',\n",
        "    shuffle=False)\n",
        "\n",
        "bottleneck_features_train = base_model.predict_generator(\n",
        "        train_generator, \n",
        "        nb_train_samples // batch_size)\n",
        "\n",
        "print('Prediction of the training set finished.')\n",
        "\n",
        "np.save(open('bottleneck_features_train_inception3.npy', 'wb'),\n",
        "            bottleneck_features_train)\n",
        "\n",
        "validation_generator = data_generator.flow_from_directory(\n",
        "    validation_data_dir,\n",
        "    target_size=(img_height, img_width),\n",
        "    batch_size=batch_size,\n",
        "    class_mode='categorical',\n",
        "    shuffle=False)\n",
        "\n",
        "bottleneck_features_validation = base_model.predict_generator(\n",
        "        validation_generator, \n",
        "        nb_validation_samples // batch_size)\n",
        "\n",
        "print('Prediction of the validation set finished.')\n",
        "\n",
        "np.save(open('bottleneck_features_validation_inception3.npy', 'wb'),\n",
        "            bottleneck_features_validation)"
      ],
      "execution_count": 68,
      "outputs": [
        {
          "output_type": "stream",
          "text": [
            "Found 12832 images belonging to 6 classes.\n",
            "Prediction of the training set finished.\n",
            "Found 1200 images belonging to 6 classes.\n",
            "Prediction of the validation set finished.\n"
          ],
          "name": "stdout"
        }
      ]
    },
    {
      "cell_type": "code",
      "metadata": {
        "id": "QTMlxzsXG5EI"
      },
      "source": [
        "train_data = np.load(open('bottleneck_features_train_inception3.npy', 'rb'))\n",
        "validation_data = np.load(open('bottleneck_features_validation_inception3.npy', 'rb'))"
      ],
      "execution_count": 69,
      "outputs": []
    },
    {
      "cell_type": "code",
      "metadata": {
        "id": "6WMEwsnnG7Lv",
        "outputId": "84f35c70-0e99-4b76-e078-068ebf4178cf",
        "colab": {
          "base_uri": "https://localhost:8080/",
          "height": 374
        }
      },
      "source": [
        "model = Sequential()\n",
        "    \n",
        "model.add(Dense(256, activation='relu', input_shape=base_model.output_shape[1:]))\n",
        "model.add(Dropout(0.5))\n",
        "\n",
        "model.add(Dense(128, activation='relu'))\n",
        "model.add(Dropout(0.5))    \n",
        "\n",
        "model.add(Dense(6, activation='softmax'))\n",
        "\n",
        "model.compile(optimizer=SGD(lr=0.005),\n",
        "              loss='categorical_crossentropy',\n",
        "              metrics=['accuracy'])\n",
        "\n",
        "checkpointer = ModelCheckpoint(filepath='top-weights-inception3.hdf5', verbose=1, save_best_only=True)\n",
        "\n",
        "history = model.fit(train_data,\n",
        "                    train_labels,\n",
        "                    epochs=epochs,\n",
        "                    batch_size=batch_size,\n",
        "                    callbacks=[checkpointer],\n",
        "                    validation_data=(validation_data, validation_labels))"
      ],
      "execution_count": 70,
      "outputs": [
        {
          "output_type": "stream",
          "text": [
            "Train on 12832 samples, validate on 1200 samples\n",
            "Epoch 1/5\n",
            "12832/12832 [==============================] - 4s 341us/step - loss: 0.7671 - accuracy: 0.7286 - val_loss: 0.3781 - val_accuracy: 0.8767\n",
            "\n",
            "Epoch 00001: val_loss improved from inf to 0.37807, saving model to top-weights-inception3.hdf5\n",
            "Epoch 2/5\n",
            "12832/12832 [==============================] - 5s 351us/step - loss: 0.4652 - accuracy: 0.8413 - val_loss: 0.3429 - val_accuracy: 0.8892\n",
            "\n",
            "Epoch 00002: val_loss improved from 0.37807 to 0.34289, saving model to top-weights-inception3.hdf5\n",
            "Epoch 3/5\n",
            "12832/12832 [==============================] - 4s 338us/step - loss: 0.4086 - accuracy: 0.8607 - val_loss: 0.3250 - val_accuracy: 0.8942\n",
            "\n",
            "Epoch 00003: val_loss improved from 0.34289 to 0.32498, saving model to top-weights-inception3.hdf5\n",
            "Epoch 4/5\n",
            "12832/12832 [==============================] - 5s 360us/step - loss: 0.3698 - accuracy: 0.8706 - val_loss: 0.3130 - val_accuracy: 0.9008\n",
            "\n",
            "Epoch 00004: val_loss improved from 0.32498 to 0.31305, saving model to top-weights-inception3.hdf5\n",
            "Epoch 5/5\n",
            "12832/12832 [==============================] - 4s 338us/step - loss: 0.3413 - accuracy: 0.8810 - val_loss: 0.3200 - val_accuracy: 0.9017\n",
            "\n",
            "Epoch 00005: val_loss did not improve from 0.31305\n"
          ],
          "name": "stdout"
        }
      ]
    },
    {
      "cell_type": "code",
      "metadata": {
        "id": "qQq7oEeHG9gw",
        "outputId": "255cc143-1fde-4c70-ef53-9c5badbe3ae4",
        "colab": {
          "base_uri": "https://localhost:8080/",
          "height": 573
        }
      },
      "source": [
        "plt.plot(history.history['accuracy'])\n",
        "plt.plot(history.history['val_accuracy'])\n",
        "plt.title('model accuracy')\n",
        "plt.ylabel('accuracy')\n",
        "plt.xlabel('epoch')\n",
        "plt.legend(['train', 'test'], loc='upper left')\n",
        "plt.show()\n",
        "\n",
        "plt.plot(history.history['loss'])\n",
        "plt.plot(history.history['val_loss'])\n",
        "plt.title('model loss')\n",
        "plt.ylabel('loss')\n",
        "plt.xlabel('epoch')\n",
        "plt.legend(['train', 'test'], loc='upper left')\n",
        "plt.show()"
      ],
      "execution_count": 71,
      "outputs": [
        {
          "output_type": "display_data",
          "data": {
            "image/png": "[encoded data removed]",
            "text/plain": [
              "<Figure size 432x288 with 1 Axes>"
            ]
          },
          "metadata": {
            "tags": [],
            "needs_background": "light"
          }
        },
        {
          "output_type": "display_data",
          "data": {
            "image/png": "[encoded data removed]",
            "text/plain": [
              "<Figure size 432x288 with 1 Axes>"
            ]
          },
          "metadata": {
            "tags": [],
            "needs_background": "light"
          }
        }
      ]
    },
    {
      "cell_type": "code",
      "metadata": {
        "id": "OLnst7bgHCYn",
        "outputId": "ce839538-b8fa-4348-a0d8-e86f4135917d",
        "colab": {
          "base_uri": "https://localhost:8080/",
          "height": 221
        }
      },
      "source": [
        "batch_size = 8\n",
        "epochs = 5\n",
        "\n",
        "input_tensor = Input(shape=(img_height,img_width,3))\n",
        "\n",
        "base_model = InceptionV3(weights='imagenet',\n",
        "                          include_top=False,\n",
        "                          input_shape=(img_width, img_height, 3),\n",
        "                          pooling='avg')\n",
        "\n",
        "top_model = Sequential()\n",
        "    \n",
        "top_model.add(Dense(256, activation='relu', input_shape=base_model.output_shape[1:]))\n",
        "top_model.add(Dropout(0.5))\n",
        "\n",
        "top_model.add(Dense(128, activation='relu'))\n",
        "top_model.add(Dropout(0.5))    \n",
        "\n",
        "top_model.add(Dense(6, activation='softmax'))\n",
        "\n",
        "top_model.load_weights('top-weights-inception3.hdf5')\n",
        "\n",
        "model = Model(inputs=base_model.input, outputs=top_model(base_model.output))\n",
        "\n",
        "model.compile(optimizer=SGD(lr=0.005, momentum=0.1, nesterov=True),\n",
        "              loss='categorical_crossentropy',\n",
        "              metrics=['accuracy'])\n",
        "\n",
        "\n",
        "checkpointer = ModelCheckpoint(filepath='top-weights-inception3.hdf5', verbose=1, save_best_only=True)\n",
        "\n",
        "train_datagen = image.ImageDataGenerator(\n",
        "        rescale=1./255,\n",
        "        shear_range=0.2,\n",
        "        zoom_range=0.2,\n",
        "        horizontal_flip=True)\n",
        "\n",
        "test_datagen = image.ImageDataGenerator(rescale=1./255)\n",
        "\n",
        "train_generator = train_datagen.flow_from_directory(\n",
        "        train_data_dir,\n",
        "        target_size=(img_height, img_width),\n",
        "        batch_size=batch_size,\n",
        "        class_mode='categorical')\n",
        "\n",
        "validation_generator = test_datagen.flow_from_directory(\n",
        "        validation_data_dir,\n",
        "        target_size=(img_height, img_width),\n",
        "        batch_size=batch_size,\n",
        "        class_mode='categorical')\n",
        "\n",
        "history = model.fit_generator(train_generator,\n",
        "                            steps_per_epoch=nb_train_samples // batch_size,\n",
        "                            epochs=epochs,\n",
        "                            validation_data=validation_generator,\n",
        "                            validation_steps=nb_validation_samples // batch_size)"
      ],
      "execution_count": 72,
      "outputs": [
        {
          "output_type": "stream",
          "text": [
            "Found 12832 images belonging to 6 classes.\n",
            "Found 1200 images belonging to 6 classes.\n",
            "Epoch 1/5\n",
            "1604/1604 [==============================] - 242s 151ms/step - loss: 0.6802 - accuracy: 0.7676 - val_loss: 0.1654 - val_accuracy: 0.8883\n",
            "Epoch 2/5\n",
            "1604/1604 [==============================] - 224s 140ms/step - loss: 0.5076 - accuracy: 0.8322 - val_loss: 0.0945 - val_accuracy: 0.9092\n",
            "Epoch 3/5\n",
            "1604/1604 [==============================] - 224s 140ms/step - loss: 0.4274 - accuracy: 0.8567 - val_loss: 0.0622 - val_accuracy: 0.9075\n",
            "Epoch 4/5\n",
            "1604/1604 [==============================] - 225s 140ms/step - loss: 0.3919 - accuracy: 0.8718 - val_loss: 0.0380 - val_accuracy: 0.9125\n",
            "Epoch 5/5\n",
            "1604/1604 [==============================] - 226s 141ms/step - loss: 0.3444 - accuracy: 0.8863 - val_loss: 0.0376 - val_accuracy: 0.9192\n"
          ],
          "name": "stdout"
        }
      ]
    },
    {
      "cell_type": "code",
      "metadata": {
        "id": "9-XXzyGUHJpC",
        "outputId": "d43e8c25-c650-4952-bf4b-b733086bdbf1",
        "colab": {
          "base_uri": "https://localhost:8080/",
          "height": 51
        }
      },
      "source": [
        "test_generator = data_generator.flow_from_directory(\n",
        "    test_data_dir,\n",
        "    target_size=(img_height, img_width),\n",
        "    batch_size=batch_size,\n",
        "    class_mode='categorical',\n",
        "    shuffle=False)\n",
        "\n",
        "score = model.evaluate_generator(test_generator, batch_size)\n",
        "\n",
        "print(\"Loss: \", score[0], \"Accuracy: \", score[1])\n",
        "accur.append(score[1])"
      ],
      "execution_count": 73,
      "outputs": [
        {
          "output_type": "stream",
          "text": [
            "Found 3000 images belonging to 6 classes.\n",
            "Loss:  0.051974814385175705 Accuracy:  0.890625\n"
          ],
          "name": "stdout"
        }
      ]
    },
    {
      "cell_type": "code",
      "metadata": {
        "id": "KrLH4HTpKUWd"
      },
      "source": [
        "start_time = time.time()\n",
        "model.predict(IMGS)\n",
        "spd.append(400 / (time.time() - start_time))\n",
        "print(\"--- %s seconds ---\" % (time.time() - start_time))\n",
        "labels.append('InceptionV3')"
      ],
      "execution_count": null,
      "outputs": []
    },
    {
      "cell_type": "code",
      "metadata": {
        "id": "879gxLwlILZT"
      },
      "source": [
        "from keras.applications import MobileNetV2"
      ],
      "execution_count": 74,
      "outputs": []
    },
    {
      "cell_type": "code",
      "metadata": {
        "id": "sPQl13sBIRsa",
        "outputId": "f9f85af9-bfee-46eb-970e-3a03b1a078b3",
        "colab": {
          "base_uri": "https://localhost:8080/",
          "height": 139
        }
      },
      "source": [
        "input_tensor = Input(shape=(img_height,img_width,3))\n",
        "\n",
        "base_model = MobileNetV2(weights='imagenet',\n",
        "                          include_top=False,\n",
        "                          input_shape=(img_width, img_height, 3),\n",
        "                          pooling='avg')\n",
        "\n",
        "data_generator = image.ImageDataGenerator(rescale=1. / 255)\n",
        "\n",
        "train_generator = data_generator.flow_from_directory(\n",
        "    train_data_dir,\n",
        "    target_size=(img_height, img_width),\n",
        "    batch_size=batch_size,\n",
        "    class_mode='categorical',\n",
        "    shuffle=False)\n",
        "\n",
        "bottleneck_features_train = base_model.predict_generator(\n",
        "        train_generator, \n",
        "        nb_train_samples // batch_size)\n",
        "\n",
        "print('Prediction of the training set finished.')\n",
        "\n",
        "np.save(open('bottleneck_features_train_mobileNet.npy', 'wb'),\n",
        "            bottleneck_features_train)\n",
        "\n",
        "validation_generator = data_generator.flow_from_directory(\n",
        "    validation_data_dir,\n",
        "    target_size=(img_height, img_width),\n",
        "    batch_size=batch_size,\n",
        "    class_mode='categorical',\n",
        "    shuffle=False)\n",
        "\n",
        "bottleneck_features_validation = base_model.predict_generator(\n",
        "        validation_generator, \n",
        "        nb_validation_samples // batch_size)\n",
        "\n",
        "print('Prediction of the validation set finished.')\n",
        "\n",
        "np.save(open('bottleneck_features_validation_mobileNet.npy', 'wb'),\n",
        "            bottleneck_features_validation)"
      ],
      "execution_count": 75,
      "outputs": [
        {
          "output_type": "stream",
          "text": [
            "/usr/local/lib/python3.6/dist-packages/keras_applications/mobilenet_v2.py:294: UserWarning: `input_shape` is undefined or non-square, or `rows` is not in [96, 128, 160, 192, 224]. Weights for input shape (224, 224) will be loaded as the default.\n",
            "  warnings.warn('`input_shape` is undefined or non-square, '\n"
          ],
          "name": "stderr"
        },
        {
          "output_type": "stream",
          "text": [
            "Found 12832 images belonging to 6 classes.\n",
            "Prediction of the training set finished.\n",
            "Found 1200 images belonging to 6 classes.\n",
            "Prediction of the validation set finished.\n"
          ],
          "name": "stdout"
        }
      ]
    },
    {
      "cell_type": "code",
      "metadata": {
        "id": "Uck_lR5LIUif"
      },
      "source": [
        "train_data = np.load(open('bottleneck_features_train_mobileNet.npy', 'rb'))\n",
        "validation_data = np.load(open('bottleneck_features_validation_mobileNet.npy', 'rb'))"
      ],
      "execution_count": 76,
      "outputs": []
    },
    {
      "cell_type": "code",
      "metadata": {
        "id": "5mRV91vdIZU_",
        "outputId": "84a45e26-846f-4691-f6d5-06b8e4ee0660",
        "colab": {
          "base_uri": "https://localhost:8080/",
          "height": 714
        }
      },
      "source": [
        "model = Sequential()\n",
        "    \n",
        "model.add(Dense(256, activation='relu', input_shape=base_model.output_shape[1:]))\n",
        "model.add(Dropout(0.5))\n",
        "\n",
        "model.add(Dense(128, activation='relu'))\n",
        "model.add(Dropout(0.5))    \n",
        "\n",
        "model.add(Dense(6, activation='softmax'))\n",
        "\n",
        "model.compile(optimizer=SGD(lr=0.005),\n",
        "              loss='categorical_crossentropy',\n",
        "              metrics=['accuracy'])\n",
        "\n",
        "checkpointer = ModelCheckpoint(filepath='top-weights-mobileNet.hdf5', verbose=1, save_best_only=True)\n",
        "\n",
        "history = model.fit(train_data,\n",
        "                    train_labels,\n",
        "                    epochs=10,\n",
        "                    batch_size=batch_size,\n",
        "                    callbacks=[checkpointer],\n",
        "                    validation_data=(validation_data, validation_labels))"
      ],
      "execution_count": 77,
      "outputs": [
        {
          "output_type": "stream",
          "text": [
            "Train on 12832 samples, validate on 1200 samples\n",
            "Epoch 1/10\n",
            "12832/12832 [==============================] - 5s 357us/step - loss: 0.6898 - accuracy: 0.7474 - val_loss: 0.3241 - val_accuracy: 0.8858\n",
            "\n",
            "Epoch 00001: val_loss improved from inf to 0.32407, saving model to top-weights-mobileNet.hdf5\n",
            "Epoch 2/10\n",
            "12832/12832 [==============================] - 5s 369us/step - loss: 0.4179 - accuracy: 0.8517 - val_loss: 0.3008 - val_accuracy: 0.8942\n",
            "\n",
            "Epoch 00002: val_loss improved from 0.32407 to 0.30083, saving model to top-weights-mobileNet.hdf5\n",
            "Epoch 3/10\n",
            "12832/12832 [==============================] - 5s 376us/step - loss: 0.3653 - accuracy: 0.8730 - val_loss: 0.2868 - val_accuracy: 0.9050\n",
            "\n",
            "Epoch 00003: val_loss improved from 0.30083 to 0.28683, saving model to top-weights-mobileNet.hdf5\n",
            "Epoch 4/10\n",
            "12832/12832 [==============================] - 5s 365us/step - loss: 0.3360 - accuracy: 0.8806 - val_loss: 0.2794 - val_accuracy: 0.9033\n",
            "\n",
            "Epoch 00004: val_loss improved from 0.28683 to 0.27941, saving model to top-weights-mobileNet.hdf5\n",
            "Epoch 5/10\n",
            "12832/12832 [==============================] - 4s 338us/step - loss: 0.3078 - accuracy: 0.8925 - val_loss: 0.2798 - val_accuracy: 0.9042\n",
            "\n",
            "Epoch 00005: val_loss did not improve from 0.27941\n",
            "Epoch 6/10\n",
            "12832/12832 [==============================] - 4s 345us/step - loss: 0.3031 - accuracy: 0.8913 - val_loss: 0.2729 - val_accuracy: 0.9058\n",
            "\n",
            "Epoch 00006: val_loss improved from 0.27941 to 0.27290, saving model to top-weights-mobileNet.hdf5\n",
            "Epoch 7/10\n",
            "12832/12832 [==============================] - 5s 356us/step - loss: 0.2887 - accuracy: 0.8976 - val_loss: 0.2745 - val_accuracy: 0.9075\n",
            "\n",
            "Epoch 00007: val_loss did not improve from 0.27290\n",
            "Epoch 8/10\n",
            "12832/12832 [==============================] - 4s 343us/step - loss: 0.2755 - accuracy: 0.9006 - val_loss: 0.2736 - val_accuracy: 0.9125\n",
            "\n",
            "Epoch 00008: val_loss did not improve from 0.27290\n",
            "Epoch 9/10\n",
            "12832/12832 [==============================] - 4s 334us/step - loss: 0.2601 - accuracy: 0.9089 - val_loss: 0.2677 - val_accuracy: 0.9083\n",
            "\n",
            "Epoch 00009: val_loss improved from 0.27290 to 0.26766, saving model to top-weights-mobileNet.hdf5\n",
            "Epoch 10/10\n",
            "12832/12832 [==============================] - 4s 340us/step - loss: 0.2562 - accuracy: 0.9100 - val_loss: 0.2702 - val_accuracy: 0.9058\n",
            "\n",
            "Epoch 00010: val_loss did not improve from 0.26766\n"
          ],
          "name": "stdout"
        }
      ]
    },
    {
      "cell_type": "code",
      "metadata": {
        "id": "OFC0oJ8eIaNH",
        "outputId": "e84d59f8-3bc5-4a31-998a-569869f0e2db",
        "colab": {
          "base_uri": "https://localhost:8080/",
          "height": 573
        }
      },
      "source": [
        "plt.plot(history.history['accuracy'])\n",
        "plt.plot(history.history['val_accuracy'])\n",
        "plt.title('model accuracy')\n",
        "plt.ylabel('accuracy')\n",
        "plt.xlabel('epoch')\n",
        "plt.legend(['train', 'test'], loc='upper left')\n",
        "plt.show()\n",
        "\n",
        "plt.plot(history.history['loss'])\n",
        "plt.plot(history.history['val_loss'])\n",
        "plt.title('model loss')\n",
        "plt.ylabel('loss')\n",
        "plt.xlabel('epoch')\n",
        "plt.legend(['train', 'test'], loc='upper left')\n",
        "plt.show()"
      ],
      "execution_count": 78,
      "outputs": [
        {
          "output_type": "display_data",
          "data": {
            "image/png": "[encoded data removed]",
            "text/plain": [
              "<Figure size 432x288 with 1 Axes>"
            ]
          },
          "metadata": {
            "tags": [],
            "needs_background": "light"
          }
        },
        {
          "output_type": "display_data",
          "data": {
            "image/png": "[encoded data removed]",
            "text/plain": [
              "<Figure size 432x288 with 1 Axes>"
            ]
          },
          "metadata": {
            "tags": [],
            "needs_background": "light"
          }
        }
      ]
    },
    {
      "cell_type": "code",
      "metadata": {
        "id": "tZ7M7dplIfaN",
        "outputId": "5952912e-6613-428d-8b54-0159c1326547",
        "colab": {
          "base_uri": "https://localhost:8080/",
          "height": 275
        }
      },
      "source": [
        "batch_size = 8\n",
        "epochs = 5\n",
        "\n",
        "input_tensor = Input(shape=(img_height,img_width,3))\n",
        "\n",
        "base_model = MobileNetV2(weights='imagenet',\n",
        "                          include_top=False,\n",
        "                          input_shape=(img_width, img_height, 3),\n",
        "                          pooling='avg')\n",
        "\n",
        "top_model = Sequential()\n",
        "    \n",
        "top_model.add(Dense(256, activation='relu', input_shape=base_model.output_shape[1:]))\n",
        "top_model.add(Dropout(0.5))\n",
        "\n",
        "top_model.add(Dense(128, activation='relu'))\n",
        "top_model.add(Dropout(0.5))    \n",
        "\n",
        "top_model.add(Dense(6, activation='softmax'))\n",
        "\n",
        "top_model.load_weights('top-weights-mobileNet.hdf5')\n",
        "\n",
        "model = Model(inputs=base_model.input, outputs=top_model(base_model.output))\n",
        "\n",
        "model.compile(optimizer=SGD(lr=0.005, momentum=0.1, nesterov=True),\n",
        "              loss='categorical_crossentropy',\n",
        "              metrics=['accuracy'])\n",
        "\n",
        "\n",
        "checkpointer = ModelCheckpoint(filepath='top-weights-mobileNet.hdf5', verbose=1, save_best_only=True)\n",
        "\n",
        "train_datagen = image.ImageDataGenerator(\n",
        "        rescale=1./255,\n",
        "        shear_range=0.2,\n",
        "        zoom_range=0.2,\n",
        "        horizontal_flip=True)\n",
        "\n",
        "test_datagen = image.ImageDataGenerator(rescale=1./255)\n",
        "\n",
        "train_generator = train_datagen.flow_from_directory(\n",
        "        train_data_dir,\n",
        "        target_size=(img_height, img_width),\n",
        "        batch_size=batch_size,\n",
        "        class_mode='categorical')\n",
        "\n",
        "validation_generator = test_datagen.flow_from_directory(\n",
        "        validation_data_dir,\n",
        "        target_size=(img_height, img_width),\n",
        "        batch_size=batch_size,\n",
        "        class_mode='categorical')\n",
        "\n",
        "history = model.fit_generator(train_generator,\n",
        "                            steps_per_epoch=nb_train_samples // batch_size,\n",
        "                            epochs=epochs,\n",
        "                            validation_data=validation_generator,\n",
        "                            validation_steps=nb_validation_samples // batch_size)"
      ],
      "execution_count": 79,
      "outputs": [
        {
          "output_type": "stream",
          "text": [
            "/usr/local/lib/python3.6/dist-packages/keras_applications/mobilenet_v2.py:294: UserWarning: `input_shape` is undefined or non-square, or `rows` is not in [96, 128, 160, 192, 224]. Weights for input shape (224, 224) will be loaded as the default.\n",
            "  warnings.warn('`input_shape` is undefined or non-square, '\n"
          ],
          "name": "stderr"
        },
        {
          "output_type": "stream",
          "text": [
            "Found 12832 images belonging to 6 classes.\n",
            "Found 1200 images belonging to 6 classes.\n",
            "Epoch 1/5\n",
            "1604/1604 [==============================] - 192s 120ms/step - loss: 0.6517 - accuracy: 0.7765 - val_loss: 0.2473 - val_accuracy: 0.8167\n",
            "Epoch 2/5\n",
            "1604/1604 [==============================] - 179s 112ms/step - loss: 0.4679 - accuracy: 0.8473 - val_loss: 0.4934 - val_accuracy: 0.8300\n",
            "Epoch 3/5\n",
            "1604/1604 [==============================] - 180s 112ms/step - loss: 0.3847 - accuracy: 0.8731 - val_loss: 0.2756 - val_accuracy: 0.8408\n",
            "Epoch 4/5\n",
            "1604/1604 [==============================] - 179s 112ms/step - loss: 0.3483 - accuracy: 0.8899 - val_loss: 0.1258 - val_accuracy: 0.8833\n",
            "Epoch 5/5\n",
            "1604/1604 [==============================] - 179s 111ms/step - loss: 0.3182 - accuracy: 0.8989 - val_loss: 0.2407 - val_accuracy: 0.8908\n"
          ],
          "name": "stdout"
        }
      ]
    },
    {
      "cell_type": "code",
      "metadata": {
        "id": "NL_IxVEVI9ji",
        "outputId": "b10166db-54b5-42c6-ef0a-096f6972b067",
        "colab": {
          "base_uri": "https://localhost:8080/",
          "height": 51
        }
      },
      "source": [
        "test_generator = data_generator.flow_from_directory(\n",
        "    test_data_dir,\n",
        "    target_size=(img_height, img_width),\n",
        "    batch_size=batch_size,\n",
        "    class_mode='categorical',\n",
        "    shuffle=False)\n",
        "\n",
        "score = model.evaluate_generator(test_generator, batch_size)\n",
        "\n",
        "print(\"Loss: \", score[0], \"Accuracy: \", score[1])\n",
        "accur.append(score[1])"
      ],
      "execution_count": 80,
      "outputs": [
        {
          "output_type": "stream",
          "text": [
            "Found 3000 images belonging to 6 classes.\n",
            "Loss:  0.010270381346344948 Accuracy:  0.890625\n"
          ],
          "name": "stdout"
        }
      ]
    },
    {
      "cell_type": "code",
      "metadata": {
        "id": "BtzkcKGuKYYj"
      },
      "source": [
        "start_time = time.time()\n",
        "model.predict(IMGS)\n",
        "spd.append(400 / (time.time() - start_time))\n",
        "print(\"--- %s seconds ---\" % (time.time() - start_time))\n",
        "labels.append('MobileNet')"
      ],
      "execution_count": null,
      "outputs": []
    },
    {
      "cell_type": "code",
      "metadata": {
        "id": "13VuIAPtJB8i"
      },
      "source": [
        "from keras.applications import VGG16"
      ],
      "execution_count": 81,
      "outputs": []
    },
    {
      "cell_type": "code",
      "metadata": {
        "id": "q5hBRib8JHRC",
        "outputId": "59bfa03f-1533-402c-8090-fd5e59118f25",
        "colab": {
          "base_uri": "https://localhost:8080/",
          "height": 85
        }
      },
      "source": [
        "input_tensor = Input(shape=(img_height,img_width,3))\n",
        "\n",
        "base_model = VGG16(weights='imagenet',\n",
        "                          include_top=False,\n",
        "                          input_shape=(img_width, img_height, 3),\n",
        "                          pooling='avg')\n",
        "\n",
        "data_generator = image.ImageDataGenerator(rescale=1. / 255)\n",
        "\n",
        "train_generator = data_generator.flow_from_directory(\n",
        "    train_data_dir,\n",
        "    target_size=(img_height, img_width),\n",
        "    batch_size=batch_size,\n",
        "    class_mode='categorical',\n",
        "    shuffle=False)\n",
        "\n",
        "bottleneck_features_train = base_model.predict_generator(\n",
        "        train_generator, \n",
        "        nb_train_samples // batch_size)\n",
        "\n",
        "print('Prediction of the training set finished.')\n",
        "\n",
        "np.save(open('bottleneck_features_train_vgg16.npy', 'wb'),\n",
        "            bottleneck_features_train)\n",
        "\n",
        "validation_generator = data_generator.flow_from_directory(\n",
        "    validation_data_dir,\n",
        "    target_size=(img_height, img_width),\n",
        "    batch_size=batch_size,\n",
        "    class_mode='categorical',\n",
        "    shuffle=False)\n",
        "\n",
        "bottleneck_features_validation = base_model.predict_generator(\n",
        "        validation_generator, \n",
        "        nb_validation_samples // batch_size)\n",
        "\n",
        "print('Prediction of the validation set finished.')\n",
        "\n",
        "np.save(open('bottleneck_features_validation_vgg16.npy', 'wb'),\n",
        "            bottleneck_features_validation)"
      ],
      "execution_count": 82,
      "outputs": [
        {
          "output_type": "stream",
          "text": [
            "Found 12832 images belonging to 6 classes.\n",
            "Prediction of the training set finished.\n",
            "Found 1200 images belonging to 6 classes.\n",
            "Prediction of the validation set finished.\n"
          ],
          "name": "stdout"
        }
      ]
    },
    {
      "cell_type": "code",
      "metadata": {
        "id": "HjKw3PTGJJXz"
      },
      "source": [
        "train_data = np.load(open('bottleneck_features_train_vgg16.npy', 'rb'))\n",
        "validation_data = np.load(open('bottleneck_features_validation_vgg16.npy', 'rb'))"
      ],
      "execution_count": 83,
      "outputs": []
    },
    {
      "cell_type": "code",
      "metadata": {
        "id": "2lxNscuDJLup",
        "outputId": "9aae7d4d-a45c-4ef6-c27c-0d9e1e218685",
        "colab": {
          "base_uri": "https://localhost:8080/",
          "height": 714
        }
      },
      "source": [
        "model = Sequential()\n",
        "    \n",
        "model.add(Dense(256, activation='relu', input_shape=base_model.output_shape[1:]))\n",
        "model.add(Dropout(0.5))\n",
        "\n",
        "model.add(Dense(128, activation='relu'))\n",
        "model.add(Dropout(0.5))    \n",
        "\n",
        "model.add(Dense(6, activation='softmax'))\n",
        "\n",
        "model.compile(optimizer=SGD(lr=0.005),\n",
        "              loss='categorical_crossentropy',\n",
        "              metrics=['accuracy'])\n",
        "\n",
        "checkpointer = ModelCheckpoint(filepath='top-weights-vgg16.hdf5', verbose=1, save_best_only=True)\n",
        "\n",
        "history = model.fit(train_data,\n",
        "                    train_labels,\n",
        "                    epochs=10,\n",
        "                    batch_size=batch_size,\n",
        "                    callbacks=[checkpointer],\n",
        "                    validation_data=(validation_data, validation_labels))"
      ],
      "execution_count": 84,
      "outputs": [
        {
          "output_type": "stream",
          "text": [
            "Train on 12832 samples, validate on 1200 samples\n",
            "Epoch 1/10\n",
            "12832/12832 [==============================] - 5s 358us/step - loss: 1.2335 - accuracy: 0.4809 - val_loss: 0.7311 - val_accuracy: 0.7625\n",
            "\n",
            "Epoch 00001: val_loss improved from inf to 0.73112, saving model to top-weights-vgg16.hdf5\n",
            "Epoch 2/10\n",
            "12832/12832 [==============================] - 4s 344us/step - loss: 0.8118 - accuracy: 0.6658 - val_loss: 0.6178 - val_accuracy: 0.7725\n",
            "\n",
            "Epoch 00002: val_loss improved from 0.73112 to 0.61779, saving model to top-weights-vgg16.hdf5\n",
            "Epoch 3/10\n",
            "12832/12832 [==============================] - 4s 350us/step - loss: 0.6970 - accuracy: 0.7253 - val_loss: 0.5411 - val_accuracy: 0.8217\n",
            "\n",
            "Epoch 00003: val_loss improved from 0.61779 to 0.54114, saving model to top-weights-vgg16.hdf5\n",
            "Epoch 4/10\n",
            "12832/12832 [==============================] - 4s 346us/step - loss: 0.6276 - accuracy: 0.7574 - val_loss: 0.4916 - val_accuracy: 0.8333\n",
            "\n",
            "Epoch 00004: val_loss improved from 0.54114 to 0.49161, saving model to top-weights-vgg16.hdf5\n",
            "Epoch 5/10\n",
            "12832/12832 [==============================] - 5s 374us/step - loss: 0.5950 - accuracy: 0.7769 - val_loss: 0.4696 - val_accuracy: 0.8333\n",
            "\n",
            "Epoch 00005: val_loss improved from 0.49161 to 0.46960, saving model to top-weights-vgg16.hdf5\n",
            "Epoch 6/10\n",
            "12832/12832 [==============================] - 4s 348us/step - loss: 0.5682 - accuracy: 0.7882 - val_loss: 0.4244 - val_accuracy: 0.8433\n",
            "\n",
            "Epoch 00006: val_loss improved from 0.46960 to 0.42440, saving model to top-weights-vgg16.hdf5\n",
            "Epoch 7/10\n",
            "12832/12832 [==============================] - 4s 335us/step - loss: 0.5461 - accuracy: 0.7958 - val_loss: 0.4429 - val_accuracy: 0.8483\n",
            "\n",
            "Epoch 00007: val_loss did not improve from 0.42440\n",
            "Epoch 8/10\n",
            "12832/12832 [==============================] - 4s 332us/step - loss: 0.5263 - accuracy: 0.8107 - val_loss: 0.4143 - val_accuracy: 0.8500\n",
            "\n",
            "Epoch 00008: val_loss improved from 0.42440 to 0.41429, saving model to top-weights-vgg16.hdf5\n",
            "Epoch 9/10\n",
            "12832/12832 [==============================] - 4s 341us/step - loss: 0.5209 - accuracy: 0.8112 - val_loss: 0.4254 - val_accuracy: 0.8450\n",
            "\n",
            "Epoch 00009: val_loss did not improve from 0.41429\n",
            "Epoch 10/10\n",
            "12832/12832 [==============================] - 4s 349us/step - loss: 0.5061 - accuracy: 0.8172 - val_loss: 0.4107 - val_accuracy: 0.8508\n",
            "\n",
            "Epoch 00010: val_loss improved from 0.41429 to 0.41073, saving model to top-weights-vgg16.hdf5\n"
          ],
          "name": "stdout"
        }
      ]
    },
    {
      "cell_type": "code",
      "metadata": {
        "id": "QRdWdQgoJN7e",
        "outputId": "ea8cc0b9-7699-4c06-9958-61b63c6d7707",
        "colab": {
          "base_uri": "https://localhost:8080/",
          "height": 573
        }
      },
      "source": [
        "plt.plot(history.history['accuracy'])\n",
        "plt.plot(history.history['val_accuracy'])\n",
        "plt.title('model accuracy')\n",
        "plt.ylabel('accuracy')\n",
        "plt.xlabel('epoch')\n",
        "plt.legend(['train', 'test'], loc='upper left')\n",
        "plt.show()\n",
        "\n",
        "plt.plot(history.history['loss'])\n",
        "plt.plot(history.history['val_loss'])\n",
        "plt.title('model loss')\n",
        "plt.ylabel('loss')\n",
        "plt.xlabel('epoch')\n",
        "plt.legend(['train', 'test'], loc='upper left')\n",
        "plt.show()"
      ],
      "execution_count": 85,
      "outputs": [
        {
          "output_type": "display_data",
          "data": {
            "image/png": "[encoded data removed]",
            "text/plain": [
              "<Figure size 432x288 with 1 Axes>"
            ]
          },
          "metadata": {
            "tags": [],
            "needs_background": "light"
          }
        },
        {
          "output_type": "display_data",
          "data": {
            "image/png": "[encoded data removed]",
            "text/plain": [
              "<Figure size 432x288 with 1 Axes>"
            ]
          },
          "metadata": {
            "tags": [],
            "needs_background": "light"
          }
        }
      ]
    },
    {
      "cell_type": "code",
      "metadata": {
        "id": "FtDxHJshJPu9",
        "outputId": "99b3a31c-1300-4e9c-897e-4a2d5106c2e8",
        "colab": {
          "base_uri": "https://localhost:8080/",
          "height": 221
        }
      },
      "source": [
        "batch_size = 8\n",
        "epochs = 5\n",
        "\n",
        "input_tensor = Input(shape=(img_height,img_width,3))\n",
        "\n",
        "base_model = VGG16(weights='imagenet',\n",
        "                          include_top=False,\n",
        "                          input_shape=(img_width, img_height, 3),\n",
        "                          pooling='avg')\n",
        "\n",
        "top_model = Sequential()\n",
        "    \n",
        "top_model.add(Dense(256, activation='relu', input_shape=base_model.output_shape[1:]))\n",
        "top_model.add(Dropout(0.5))\n",
        "\n",
        "top_model.add(Dense(128, activation='relu'))\n",
        "top_model.add(Dropout(0.5))    \n",
        "\n",
        "top_model.add(Dense(6, activation='softmax'))\n",
        "\n",
        "top_model.load_weights('top-weights-vgg16.hdf5')\n",
        "\n",
        "model = Model(inputs=base_model.input, outputs=top_model(base_model.output))\n",
        "\n",
        "model.compile(optimizer=SGD(lr=0.005, momentum=0.1, nesterov=True),\n",
        "              loss='categorical_crossentropy',\n",
        "              metrics=['accuracy'])\n",
        "\n",
        "\n",
        "checkpointer = ModelCheckpoint(filepath='top-weights-vgg16.hdf5', verbose=1, save_best_only=True)\n",
        "\n",
        "train_datagen = image.ImageDataGenerator(\n",
        "        rescale=1./255,\n",
        "        shear_range=0.2,\n",
        "        zoom_range=0.2,\n",
        "        horizontal_flip=True)\n",
        "\n",
        "test_datagen = image.ImageDataGenerator(rescale=1./255)\n",
        "\n",
        "train_generator = train_datagen.flow_from_directory(\n",
        "        train_data_dir,\n",
        "        target_size=(img_height, img_width),\n",
        "        batch_size=batch_size,\n",
        "        class_mode='categorical')\n",
        "\n",
        "validation_generator = test_datagen.flow_from_directory(\n",
        "        validation_data_dir,\n",
        "        target_size=(img_height, img_width),\n",
        "        batch_size=batch_size,\n",
        "        class_mode='categorical')\n",
        "\n",
        "history = model.fit_generator(train_generator,\n",
        "                            steps_per_epoch=nb_train_samples // batch_size,\n",
        "                            epochs=epochs,\n",
        "                            validation_data=validation_generator,\n",
        "                            validation_steps=nb_validation_samples // batch_size)"
      ],
      "execution_count": 86,
      "outputs": [
        {
          "output_type": "stream",
          "text": [
            "Found 12832 images belonging to 6 classes.\n",
            "Found 1200 images belonging to 6 classes.\n",
            "Epoch 1/5\n",
            "1604/1604 [==============================] - 152s 95ms/step - loss: 0.8060 - accuracy: 0.7036 - val_loss: 0.5144 - val_accuracy: 0.8367\n",
            "Epoch 2/5\n",
            "1604/1604 [==============================] - 151s 94ms/step - loss: 0.4307 - accuracy: 0.8550 - val_loss: 0.0034 - val_accuracy: 0.9208\n",
            "Epoch 3/5\n",
            "1604/1604 [==============================] - 150s 93ms/step - loss: 0.3330 - accuracy: 0.8911 - val_loss: 0.0228 - val_accuracy: 0.8983\n",
            "Epoch 4/5\n",
            "1604/1604 [==============================] - 150s 94ms/step - loss: 0.2866 - accuracy: 0.9054 - val_loss: 0.2207 - val_accuracy: 0.8925\n",
            "Epoch 5/5\n",
            "1604/1604 [==============================] - 150s 94ms/step - loss: 0.2540 - accuracy: 0.9177 - val_loss: 0.0870 - val_accuracy: 0.9058\n"
          ],
          "name": "stdout"
        }
      ]
    },
    {
      "cell_type": "code",
      "metadata": {
        "id": "XUPimEr9JZiN",
        "outputId": "e9593b82-7193-4b41-e207-b87c489605b5",
        "colab": {
          "base_uri": "https://localhost:8080/",
          "height": 51
        }
      },
      "source": [
        "test_generator = data_generator.flow_from_directory(\n",
        "    test_data_dir,\n",
        "    target_size=(img_height, img_width),\n",
        "    batch_size=batch_size,\n",
        "    class_mode='categorical',\n",
        "    shuffle=False)\n",
        "\n",
        "score = model.evaluate_generator(test_generator, batch_size)\n",
        "\n",
        "print(\"Loss: \", score[0], \"Accuracy: \", score[1])\n",
        "accur.append(score[1])"
      ],
      "execution_count": 87,
      "outputs": [
        {
          "output_type": "stream",
          "text": [
            "Found 3000 images belonging to 6 classes.\n",
            "Loss:  0.10495084524154663 Accuracy:  0.875\n"
          ],
          "name": "stdout"
        }
      ]
    },
    {
      "cell_type": "code",
      "metadata": {
        "id": "yhS5J1oGKbM0"
      },
      "source": [
        "start_time = time.time()\n",
        "model.predict(IMGS)\n",
        "spd.append(400 / (time.time() - start_time))\n",
        "print(\"--- %s seconds ---\" % (time.time() - start_time))\n",
        "labels.append('VGG16')"
      ],
      "execution_count": null,
      "outputs": []
    },
    {
      "cell_type": "code",
      "metadata": {
        "id": "4lzN5wRcJcJ1"
      },
      "source": [
        "from keras.applications import ResNet50"
      ],
      "execution_count": 88,
      "outputs": []
    },
    {
      "cell_type": "code",
      "metadata": {
        "id": "SnTNFWNiJf0z",
        "outputId": "93c37bcf-eb09-4e45-ff37-f562a07c869b",
        "colab": {
          "base_uri": "https://localhost:8080/",
          "height": 85
        }
      },
      "source": [
        "input_tensor = Input(shape=(img_height,img_width,3))\n",
        "\n",
        "base_model = ResNet50(weights='imagenet',\n",
        "                          include_top=False,\n",
        "                          input_shape=(img_width, img_height, 3),\n",
        "                          pooling='avg')\n",
        "\n",
        "data_generator = image.ImageDataGenerator(rescale=1. / 255)\n",
        "\n",
        "train_generator = data_generator.flow_from_directory(\n",
        "    train_data_dir,\n",
        "    target_size=(img_height, img_width),\n",
        "    batch_size=batch_size,\n",
        "    class_mode='categorical',\n",
        "    shuffle=False)\n",
        "\n",
        "bottleneck_features_train = base_model.predict_generator(\n",
        "        train_generator, \n",
        "        nb_train_samples // batch_size)\n",
        "\n",
        "print('Prediction of the training set finished.')\n",
        "\n",
        "np.save(open('bottleneck_features_train_resNet.npy', 'wb'),\n",
        "            bottleneck_features_train)\n",
        "\n",
        "validation_generator = data_generator.flow_from_directory(\n",
        "    validation_data_dir,\n",
        "    target_size=(img_height, img_width),\n",
        "    batch_size=batch_size,\n",
        "    class_mode='categorical',\n",
        "    shuffle=False)\n",
        "\n",
        "bottleneck_features_validation = base_model.predict_generator(\n",
        "        validation_generator, \n",
        "        nb_validation_samples // batch_size)\n",
        "\n",
        "print('Prediction of the validation set finished.')\n",
        "\n",
        "np.save(open('bottleneck_features_validation_resNet.npy', 'wb'),\n",
        "            bottleneck_features_validation)"
      ],
      "execution_count": 89,
      "outputs": [
        {
          "output_type": "stream",
          "text": [
            "Found 12832 images belonging to 6 classes.\n",
            "Prediction of the training set finished.\n",
            "Found 1200 images belonging to 6 classes.\n",
            "Prediction of the validation set finished.\n"
          ],
          "name": "stdout"
        }
      ]
    },
    {
      "cell_type": "code",
      "metadata": {
        "id": "2oyJMiITJiFV"
      },
      "source": [
        "train_data = np.load(open('bottleneck_features_train_resNet.npy', 'rb'))\n",
        "validation_data = np.load(open('bottleneck_features_validation_resNet.npy', 'rb'))"
      ],
      "execution_count": 90,
      "outputs": []
    },
    {
      "cell_type": "code",
      "metadata": {
        "id": "-YKHl4xWJli8",
        "outputId": "31c0fa8e-ebe2-4977-88f6-139a68d11fb9",
        "colab": {
          "base_uri": "https://localhost:8080/",
          "height": 714
        }
      },
      "source": [
        "model = Sequential()\n",
        "    \n",
        "model.add(Dense(256, activation='relu', input_shape=base_model.output_shape[1:]))\n",
        "model.add(Dropout(0.5))\n",
        "\n",
        "model.add(Dense(128, activation='relu'))\n",
        "model.add(Dropout(0.5))    \n",
        "\n",
        "model.add(Dense(6, activation='softmax'))\n",
        "\n",
        "model.compile(optimizer=SGD(lr=0.005),\n",
        "              loss='categorical_crossentropy',\n",
        "              metrics=['accuracy'])\n",
        "\n",
        "checkpointer = ModelCheckpoint(filepath='top-weights-resNet.hdf5', verbose=1, save_best_only=True)\n",
        "\n",
        "history = model.fit(train_data,\n",
        "                    train_labels,\n",
        "                    epochs=10,\n",
        "                    batch_size=batch_size,\n",
        "                    callbacks=[checkpointer],\n",
        "                    validation_data=(validation_data, validation_labels))"
      ],
      "execution_count": 91,
      "outputs": [
        {
          "output_type": "stream",
          "text": [
            "Train on 12832 samples, validate on 1200 samples\n",
            "Epoch 1/10\n",
            "12832/12832 [==============================] - 5s 357us/step - loss: 1.7992 - accuracy: 0.1767 - val_loss: 1.7892 - val_accuracy: 0.1675\n",
            "\n",
            "Epoch 00001: val_loss improved from inf to 1.78923, saving model to top-weights-resNet.hdf5\n",
            "Epoch 2/10\n",
            "12832/12832 [==============================] - 4s 335us/step - loss: 1.7832 - accuracy: 0.2050 - val_loss: 1.7599 - val_accuracy: 0.2525\n",
            "\n",
            "Epoch 00002: val_loss improved from 1.78923 to 1.75989, saving model to top-weights-resNet.hdf5\n",
            "Epoch 3/10\n",
            "12832/12832 [==============================] - 4s 341us/step - loss: 1.7476 - accuracy: 0.2398 - val_loss: 1.7032 - val_accuracy: 0.2683\n",
            "\n",
            "Epoch 00003: val_loss improved from 1.75989 to 1.70320, saving model to top-weights-resNet.hdf5\n",
            "Epoch 4/10\n",
            "12832/12832 [==============================] - 4s 347us/step - loss: 1.7193 - accuracy: 0.2418 - val_loss: 1.6880 - val_accuracy: 0.2708\n",
            "\n",
            "Epoch 00004: val_loss improved from 1.70320 to 1.68803, saving model to top-weights-resNet.hdf5\n",
            "Epoch 5/10\n",
            "12832/12832 [==============================] - 4s 335us/step - loss: 1.6958 - accuracy: 0.2546 - val_loss: 1.6341 - val_accuracy: 0.2833\n",
            "\n",
            "Epoch 00005: val_loss improved from 1.68803 to 1.63412, saving model to top-weights-resNet.hdf5\n",
            "Epoch 6/10\n",
            "12832/12832 [==============================] - 5s 360us/step - loss: 1.6727 - accuracy: 0.2636 - val_loss: 1.6454 - val_accuracy: 0.2717\n",
            "\n",
            "Epoch 00006: val_loss did not improve from 1.63412\n",
            "Epoch 7/10\n",
            "12832/12832 [==============================] - 5s 351us/step - loss: 1.6496 - accuracy: 0.2767 - val_loss: 1.5802 - val_accuracy: 0.3042\n",
            "\n",
            "Epoch 00007: val_loss improved from 1.63412 to 1.58017, saving model to top-weights-resNet.hdf5\n",
            "Epoch 8/10\n",
            "12832/12832 [==============================] - 4s 349us/step - loss: 1.6300 - accuracy: 0.2803 - val_loss: 1.6394 - val_accuracy: 0.2875\n",
            "\n",
            "Epoch 00008: val_loss did not improve from 1.58017\n",
            "Epoch 9/10\n",
            "12832/12832 [==============================] - 5s 362us/step - loss: 1.6141 - accuracy: 0.2890 - val_loss: 1.5316 - val_accuracy: 0.3375\n",
            "\n",
            "Epoch 00009: val_loss improved from 1.58017 to 1.53158, saving model to top-weights-resNet.hdf5\n",
            "Epoch 10/10\n",
            "12832/12832 [==============================] - 4s 336us/step - loss: 1.5949 - accuracy: 0.2986 - val_loss: 1.4927 - val_accuracy: 0.3625\n",
            "\n",
            "Epoch 00010: val_loss improved from 1.53158 to 1.49274, saving model to top-weights-resNet.hdf5\n"
          ],
          "name": "stdout"
        }
      ]
    },
    {
      "cell_type": "code",
      "metadata": {
        "id": "4RN7AWEEJnqu",
        "outputId": "66ba7d8a-1707-492d-fa6d-46805c4a326c",
        "colab": {
          "base_uri": "https://localhost:8080/",
          "height": 573
        }
      },
      "source": [
        "plt.plot(history.history['accuracy'])\n",
        "plt.plot(history.history['val_accuracy'])\n",
        "plt.title('model accuracy')\n",
        "plt.ylabel('accuracy')\n",
        "plt.xlabel('epoch')\n",
        "plt.legend(['train', 'test'], loc='upper left')\n",
        "plt.show()\n",
        "\n",
        "plt.plot(history.history['loss'])\n",
        "plt.plot(history.history['val_loss'])\n",
        "plt.title('model loss')\n",
        "plt.ylabel('loss')\n",
        "plt.xlabel('epoch')\n",
        "plt.legend(['train', 'test'], loc='upper left')\n",
        "plt.show()"
      ],
      "execution_count": 92,
      "outputs": [
        {
          "output_type": "display_data",
          "data": {
            "image/png": "[encoded data removed]",
            "text/plain": [
              "<Figure size 432x288 with 1 Axes>"
            ]
          },
          "metadata": {
            "tags": [],
            "needs_background": "light"
          }
        },
        {
          "output_type": "display_data",
          "data": {
            "image/png": "[encoded data removed]",
            "text/plain": [
              "<Figure size 432x288 with 1 Axes>"
            ]
          },
          "metadata": {
            "tags": [],
            "needs_background": "light"
          }
        }
      ]
    },
    {
      "cell_type": "code",
      "metadata": {
        "id": "lGzTOMTrJplr",
        "outputId": "aeb87a13-9cd9-4451-833f-f12c6c1000cf",
        "colab": {
          "base_uri": "https://localhost:8080/",
          "height": 221
        }
      },
      "source": [
        "batch_size = 8\n",
        "epochs = 5\n",
        "\n",
        "input_tensor = Input(shape=(img_height,img_width,3))\n",
        "\n",
        "base_model = ResNet50(weights='imagenet',\n",
        "                          include_top=False,\n",
        "                          input_shape=(img_width, img_height, 3),\n",
        "                          pooling='avg')\n",
        "\n",
        "top_model = Sequential()\n",
        "    \n",
        "top_model.add(Dense(256, activation='relu', input_shape=base_model.output_shape[1:]))\n",
        "top_model.add(Dropout(0.5))\n",
        "\n",
        "top_model.add(Dense(128, activation='relu'))\n",
        "top_model.add(Dropout(0.5))    \n",
        "\n",
        "top_model.add(Dense(6, activation='softmax'))\n",
        "\n",
        "top_model.load_weights('top-weights-resNet.hdf5')\n",
        "\n",
        "model = Model(inputs=base_model.input, outputs=top_model(base_model.output))\n",
        "\n",
        "model.compile(optimizer=SGD(lr=0.005, momentum=0.1, nesterov=True),\n",
        "              loss='categorical_crossentropy',\n",
        "              metrics=['accuracy'])\n",
        "\n",
        "\n",
        "checkpointer = ModelCheckpoint(filepath='top-weights-resNet.hdf5', verbose=1, save_best_only=True)\n",
        "\n",
        "train_datagen = image.ImageDataGenerator(\n",
        "        rescale=1./255,\n",
        "        shear_range=0.2,\n",
        "        zoom_range=0.2,\n",
        "        horizontal_flip=True)\n",
        "\n",
        "test_datagen = image.ImageDataGenerator(rescale=1./255)\n",
        "\n",
        "train_generator = train_datagen.flow_from_directory(\n",
        "        train_data_dir,\n",
        "        target_size=(img_height, img_width),\n",
        "        batch_size=batch_size,\n",
        "        class_mode='categorical')\n",
        "\n",
        "validation_generator = test_datagen.flow_from_directory(\n",
        "        validation_data_dir,\n",
        "        target_size=(img_height, img_width),\n",
        "        batch_size=batch_size,\n",
        "        class_mode='categorical')\n",
        "\n",
        "history = model.fit_generator(train_generator,\n",
        "                            steps_per_epoch=nb_train_samples // batch_size,\n",
        "                            epochs=epochs,\n",
        "                            validation_data=validation_generator,\n",
        "                            validation_steps=nb_validation_samples // batch_size)"
      ],
      "execution_count": 93,
      "outputs": [
        {
          "output_type": "stream",
          "text": [
            "Found 12832 images belonging to 6 classes.\n",
            "Found 1200 images belonging to 6 classes.\n",
            "Epoch 1/5\n",
            "1604/1604 [==============================] - 234s 146ms/step - loss: 0.6980 - accuracy: 0.7512 - val_loss: 0.0543 - val_accuracy: 0.8775\n",
            "Epoch 2/5\n",
            "1604/1604 [==============================] - 220s 137ms/step - loss: 0.4120 - accuracy: 0.8636 - val_loss: 0.1246 - val_accuracy: 0.9067\n",
            "Epoch 3/5\n",
            "1604/1604 [==============================] - 220s 137ms/step - loss: 0.3370 - accuracy: 0.8897 - val_loss: 0.0055 - val_accuracy: 0.9267\n",
            "Epoch 4/5\n",
            "1604/1604 [==============================] - 220s 137ms/step - loss: 0.2846 - accuracy: 0.9066 - val_loss: 0.3917 - val_accuracy: 0.8850\n",
            "Epoch 5/5\n",
            "1604/1604 [==============================] - 220s 137ms/step - loss: 0.2456 - accuracy: 0.9197 - val_loss: 0.0079 - val_accuracy: 0.9208\n"
          ],
          "name": "stdout"
        }
      ]
    },
    {
      "cell_type": "code",
      "metadata": {
        "id": "1A1UT0moJ6B1",
        "outputId": "fa2e5746-bf97-4bfc-f332-904ae7e65969",
        "colab": {
          "base_uri": "https://localhost:8080/",
          "height": 51
        }
      },
      "source": [
        "test_generator = data_generator.flow_from_directory(\n",
        "    test_data_dir,\n",
        "    target_size=(img_height, img_width),\n",
        "    batch_size=batch_size,\n",
        "    class_mode='categorical',\n",
        "    shuffle=False)\n",
        "\n",
        "score = model.evaluate_generator(test_generator, batch_size)\n",
        "\n",
        "print(\"Loss: \", score[0], \"Accuracy: \", score[1])\n",
        "accur.append(score[1])"
      ],
      "execution_count": 94,
      "outputs": [
        {
          "output_type": "stream",
          "text": [
            "Found 3000 images belonging to 6 classes.\n",
            "Loss:  0.009955594316124916 Accuracy:  0.90625\n"
          ],
          "name": "stdout"
        }
      ]
    },
    {
      "cell_type": "code",
      "metadata": {
        "id": "-X1tkMHsKdrQ"
      },
      "source": [
        "start_time = time.time()\n",
        "model.predict(IMGS)\n",
        "spd.append(400 / (time.time() - start_time))\n",
        "print(\"--- %s seconds ---\" % (time.time() - start_time))\n",
        "labels.append('ResNet50')"
      ],
      "execution_count": null,
      "outputs": []
    },
    {
      "cell_type": "code",
      "metadata": {
        "id": "YkBeERc2aicf",
        "outputId": "11cdea2d-af90-4854-e225-15ee4e02ffdb",
        "colab": {
          "base_uri": "https://localhost:8080/",
          "height": 129
        }
      },
      "source": [
        "Были выбраны несколько популярных архитектур свёрточных нейронных сетей для классификации изображений: denseNet121, inceptionV3, mobileNetV2, ResNet50, VGG16, xception. \n",
        "Предпочтение было отдано именно нейросетевым подходам, так как для оптимизации работы в Computer Vision желательно, \n",
        "как можно больше процессор выполнялось через GPU, к тому же состязательные сети и сети для работы с изображениями на данный момент дают результат заметно лучше человека.\n",
        "Для сравнения былы применена аугументация к датасету. Можно заметить, насколько она улучшает точность классификации нежели просто обучить модель на чистых изображениях.\n",
        "Были использованы реализации данных моделей их пакета Keras с предобученными весами на 'imagenet'.\n",
        "А так же применён подход transfer learning. Из архитектур были убраны последний полносвязные слои. Далее через модели были пропущены изображения из train датасета и сохранены полученные признаки.\n",
        "Затем добавлена небольшая полносвязная сеть с соответствием размеров для входов и выходов для конкретной модели и количества классов в данных и обучена на полученных до этого признаках.\n",
        "После модель уже была обучена на датасете с аугументацией данных, в результате чего конечная точность заметно улучшилась."
      ],
      "execution_count": 97,
      "outputs": [
        {
          "output_type": "error",
          "ename": "SyntaxError",
          "evalue": "ignored",
          "traceback": [
            "\u001b[0;36m  File \u001b[0;32m\"<ipython-input-97-3a2fa3a145e6>\"\u001b[0;36m, line \u001b[0;32m1\u001b[0m\n\u001b[0;31m    Были выбраны несколько популярных архитектур свёрточных нейронных сетей для классификации изображений: denseNet121, inceptionV3, mobileNetV2, ResNet50, VGG16, xception.\u001b[0m\n\u001b[0m               ^\u001b[0m\n\u001b[0;31mSyntaxError\u001b[0m\u001b[0;31m:\u001b[0m invalid syntax\n"
          ]
        }
      ]
    },
    {
      "cell_type": "code",
      "metadata": {
        "id": "6xtZ9EOxFfPU"
      },
      "source": [
        "import matplotlib\n",
        "\n",
        "x = np.arange(len(labels))  # the label locations\n",
        "width = 0.35  # the width of the bars\n",
        "\n",
        "fig, ax = plt.subplots()\n",
        "rects1 = ax.bar(x - width/2, accur, width, label='accur')\n",
        "rects2 = ax.bar(x + width/2, women_means, width, label='spd')\n",
        "\n",
        "# Add some text for labels, title and custom x-axis tick labels, etc.\n",
        "ax.set_ylabel('Scores')\n",
        "ax.set_title('SPD/ACC Comparsion by Model')\n",
        "ax.set_xticks(x)\n",
        "ax.set_xticklabels(labels)\n",
        "ax.legend()\n",
        "\n",
        "\n",
        "def autolabel(rects):\n",
        "    for rect in rects:\n",
        "        height = rect.get_height()\n",
        "        ax.annotate('{}'.format(height),\n",
        "                    xy=(rect.get_x() + rect.get_width() / 2, height),\n",
        "                    xytext=(0, 3),  # 3 points vertical offset\n",
        "                    textcoords=\"offset points\",\n",
        "                    ha='center', va='bottom')\n",
        "\n",
        "\n",
        "autolabel(rects1)\n",
        "autolabel(rects2)\n",
        "\n",
        "fig.tight_layout()\n",
        "\n",
        "plt.show()"
      ],
      "execution_count": 107,
      "outputs": []
    },
    {
      "cell_type": "code",
      "metadata": {
        "id": "2h9F3-YWMr-N"
      },
      "source": [
        ""
      ],
      "execution_count": null,
      "outputs": []
    }
  ]
}